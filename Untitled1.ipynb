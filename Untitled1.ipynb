{
 "cells": [
  {
   "cell_type": "code",
   "execution_count": 68,
   "id": "50a31767",
   "metadata": {},
   "outputs": [],
   "source": [
    "import pandas as pd\n",
    "import numpy as np\n",
    "from sklearn.preprocessing import OneHotEncoder, LabelEncoder, label_binarize, StandardScaler, MinMaxScaler\n",
    "from sklearn.model_selection import train_test_split\n",
    "from sklearn.ensemble import RandomForestRegressor\n",
    "from sklearn.tree import DecisionTreeRegressor\n",
    "from sklearn.linear_model import RidgeCV,LassoCV,Lasso\n",
    "from sklearn.decomposition import PCA\n",
    "import matplotlib.pyplot as plt\n",
    "from sklearn.tree import DecisionTreeRegressor"
   ]
  },
  {
   "cell_type": "code",
   "execution_count": 69,
   "id": "2acbd679",
   "metadata": {},
   "outputs": [],
   "source": [
    "df=data = pd.read_csv('data_mais.csv')"
   ]
  },
  {
   "cell_type": "code",
   "execution_count": 70,
   "id": "b430194a",
   "metadata": {},
   "outputs": [],
   "source": [
    "vect=['Bale','Banwa','Kossi','Mouhoun',\t'Nayala',\t'Sourou',\t'Comoe'\t,\n",
    "      'Leraba',\t'Boulgou',\t'Koulpelogo',\t'Kouritenga',\t'Bam'\t,'Namentenga',\n",
    "      'Sanmatenga',\t'Boulkiemde',\t'Sanguie'\t,'Sissili',\t'Ziro',\t'Bazega',\t'Nahouri',\n",
    "      'Zoundweogo',\t'Kadiogo','Gnagna',\t'Gourma',\t'Komandjoari',\t'Kompienga'\t,'Tapoa',\n",
    "      'Houet'\t,'Kenedougou',\t'Tuy','Loroum',\t'Passore',\t'Yatenga',\t'Zondoma',\t'Ganzourgou',\n",
    "      'Kourweogo',\t'Oubritenga',\n",
    "      'Oudalan','Seno',\t'Soum',\t'Yagha','Bougouriba',\t'Ioba',\t'Noumbiel',\t'Poni']"
   ]
  },
  {
   "cell_type": "code",
   "execution_count": 86,
   "id": "fe202574",
   "metadata": {},
   "outputs": [],
   "source": [
    "dt=dd=df.loc[df['province'].isin(['Soum'])]\n",
    "dt= dt.iloc[:, 1:]\n"
   ]
  },
  {
   "cell_type": "code",
   "execution_count": 87,
   "id": "d7c60fec",
   "metadata": {},
   "outputs": [],
   "source": [
    "dt = pd.DataFrame(StandardScaler().fit_transform(dt))\n",
    "dt=sc=dt.rename(columns={0:'year', 1:'driver.TSA', 2:'Driver.TNA', 3:'sahel_rainfall', 4:'QBO', 5:'NAO',\n",
    "       6:'gmsst', 7:'EA', 8:'AMM_sst', 9:'Driver.NTA', 10:'AMO_sst', 11:'Driver.AO', 12:'PDO',\n",
    "       13:'PRCPTOT', 14:'R10mm', 15:'R1mm', 16:'R20mm', 17:'R5mm', 18:'R95pTOT', 19:'R99pTOT',\n",
    "       20:'RX1day', 21:'RX5day',22: 'SDII', 23:'CWD', 24:'CDD', 25:'TNn', 26:'TNx', 27:'TXx', 28:'TXn',\n",
    "       29:'Chirts_Tmax_Temp', 30:'Chirts_Tmin_Temp', 31:'ERA5_Pressure', 32:'ERA5_wins',\n",
    "       33:'chirps_Prec', 34:'ERA5_soil_moisture', 35:'NDVI', 36:'Mais_area',37:'mais'})"
   ]
  },
  {
   "cell_type": "code",
   "execution_count": 88,
   "id": "a1246f0a",
   "metadata": {},
   "outputs": [
    {
     "data": {
      "text/plain": [
       "23"
      ]
     },
     "execution_count": 88,
     "metadata": {},
     "output_type": "execute_result"
    }
   ],
   "source": [
    "cor=pd.DataFrame(pd.DataFrame(dt.corr()).iloc[:,37])\n",
    "absolute=cor['mais'].abs()\n",
    "\n",
    "sort=pd.DataFrame(absolute).sort_values(by=['mais'],ascending=False)\n",
    "bbb=sort.loc[sort['mais'] >= .2]\n",
    "index_list = bbb.index.tolist()\n",
    "data=sc[index_list]\n",
    "nb=len(index_list)\n",
    "nb"
   ]
  },
  {
   "cell_type": "code",
   "execution_count": 89,
   "id": "ed14cdea",
   "metadata": {},
   "outputs": [],
   "source": [
    "X=data.iloc[:,1:]\n",
    "y=data.iloc[:,nb-1]"
   ]
  },
  {
   "cell_type": "code",
   "execution_count": 90,
   "id": "562c3761",
   "metadata": {},
   "outputs": [],
   "source": [
    "\n",
    "X_train, X_test, y_train, y_test = train_test_split(X, y,test_size=0.2,random_state=3) "
   ]
  },
  {
   "cell_type": "code",
   "execution_count": 91,
   "id": "5c8c5b1f",
   "metadata": {},
   "outputs": [],
   "source": [
    "model1 = RidgeCV()\n",
    "model2 = Lasso(normalize=True, tol=1e-3)\n",
    "model3 = RandomForestRegressor(n_estimators = 2000,max_depth=20)\n",
    "model4 = DecisionTreeRegressor(max_depth=80)"
   ]
  },
  {
   "cell_type": "code",
   "execution_count": 92,
   "id": "b54f8f3c",
   "metadata": {},
   "outputs": [
    {
     "data": {
      "text/plain": [
       "DecisionTreeRegressor(max_depth=80)"
      ]
     },
     "execution_count": 92,
     "metadata": {},
     "output_type": "execute_result"
    }
   ],
   "source": [
    "model1.fit(X_train, y_train)\n",
    "model2.fit(X_train, y_train)\n",
    "model3.fit(X_train, y_train)\n",
    "model4.fit(X_train, y_train)"
   ]
  },
  {
   "cell_type": "code",
   "execution_count": 93,
   "id": "2a44d9a3",
   "metadata": {},
   "outputs": [
    {
     "data": {
      "text/plain": [
       "0.4703702298009156"
      ]
     },
     "execution_count": 93,
     "metadata": {},
     "output_type": "execute_result"
    }
   ],
   "source": [
    "model1.score(X_test, y_test)"
   ]
  },
  {
   "cell_type": "code",
   "execution_count": 94,
   "id": "b767120e",
   "metadata": {},
   "outputs": [
    {
     "data": {
      "text/plain": [
       "-0.8596653526989693"
      ]
     },
     "execution_count": 94,
     "metadata": {},
     "output_type": "execute_result"
    }
   ],
   "source": [
    "model2.score(X_test, y_test)"
   ]
  },
  {
   "cell_type": "code",
   "execution_count": 95,
   "id": "6771ac4f",
   "metadata": {},
   "outputs": [
    {
     "data": {
      "text/plain": [
       "0.11109282018841238"
      ]
     },
     "execution_count": 95,
     "metadata": {},
     "output_type": "execute_result"
    }
   ],
   "source": [
    "model3.score(X_test, y_test)"
   ]
  },
  {
   "cell_type": "code",
   "execution_count": null,
   "id": "b1060436",
   "metadata": {},
   "outputs": [],
   "source": []
  }
 ],
 "metadata": {
  "kernelspec": {
   "display_name": "Python 3",
   "language": "python",
   "name": "python3"
  },
  "language_info": {
   "codemirror_mode": {
    "name": "ipython",
    "version": 3
   },
   "file_extension": ".py",
   "mimetype": "text/x-python",
   "name": "python",
   "nbconvert_exporter": "python",
   "pygments_lexer": "ipython3",
   "version": "3.8.8"
  }
 },
 "nbformat": 4,
 "nbformat_minor": 5
}
