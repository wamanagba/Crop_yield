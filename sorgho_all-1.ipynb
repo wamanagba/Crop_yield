{
 "cells": [
  {
   "cell_type": "code",
   "execution_count": 1,
   "id": "030d507b",
   "metadata": {},
   "outputs": [],
   "source": [
    "import pandas as pd\n",
    "import numpy as np\n",
    "from sklearn.preprocessing import OneHotEncoder, LabelEncoder, label_binarize, StandardScaler, MinMaxScaler\n",
    "from sklearn.linear_model import RidgeCV,Lasso\n",
    "from sklearn.ensemble import RandomForestRegressor\n",
    "from sklearn.tree import DecisionTreeRegressor\n"
   ]
  },
  {
   "cell_type": "code",
   "execution_count": 2,
   "id": "1d50317e",
   "metadata": {},
   "outputs": [],
   "source": [
    "df=data = pd.read_csv('sorgho_all.csv')"
   ]
  },
  {
   "cell_type": "code",
   "execution_count": null,
   "id": "be0ad4b8",
   "metadata": {},
   "outputs": [],
   "source": []
  },
  {
   "cell_type": "code",
   "execution_count": 3,
   "id": "ed5ab5b0",
   "metadata": {},
   "outputs": [],
   "source": [
    "def model(df,n,a,b):\n",
    "\n",
    "    X = pd.concat([df.iloc[:, 1],df.iloc[:, a:b]], axis=1)\n",
    "    y = df.iloc[:, 37]\n",
    "    catvar=['province']\n",
    "    dummyvars = pd.get_dummies(df[catvar])\n",
    "\n",
    "    #numvar=['annee','Chirts_Tmax_Temp','Chirts_Tmin_Temp','ERA5_Pressure','ERA5_wins','chirps_Prec']\n",
    "    numdata_std = pd.DataFrame(StandardScaler().fit_transform(X))\n",
    "    #numdata_std=numdata_std.rename(columns={0:'annee',1:'Chirts_Tmax_Temp',2:'Chirts_Tmin_Temp',3:'ERA5_Pressure',4:'ERA5_wins',5:'chirps_Prec'})\n",
    "\n",
    "    data_end = pd.concat([dummyvars,numdata_std], axis = 1)\n",
    "    X=data_end\n",
    "    from sklearn.model_selection import train_test_split\n",
    "    X_train, X_test, y_train, y_test = train_test_split(X, y,test_size=0.2,random_state=n) \n",
    "\n",
    "    model1 = RidgeCV()\n",
    "    model2 = Lasso(normalize=True, tol=1e-3)\n",
    "    model3 = RandomForestRegressor(n_estimators = 2000,max_depth=80)\n",
    "    model4 = DecisionTreeRegressor(max_depth=23) \n",
    "\n",
    "    model1.fit(X_train, y_train.values.ravel())\n",
    "    model2.fit(X_train, y_train.values.ravel())\n",
    "    model3.fit(X_train, y_train.values.ravel())\n",
    "    model4.fit(X_train, y_train.values.ravel())\n",
    "\n",
    "    train_RidgeCV=model1.score(X_train, y_train)\n",
    "    test_RidgeCV=model1.score(X_test, y_test)\n",
    "\n",
    "    train_LassoCV=model2.score(X_train, y_train)\n",
    "    test_LassoCV=model2.score(X_test, y_test)\n",
    "\n",
    "    train_RandomForest=model3.score(X_train, y_train)\n",
    "    test_RandomForest=model3.score(X_test, y_test)\n",
    "\n",
    "    train_DecisionTree=model4.score(X_train, y_train)\n",
    "    test_DecisionTree=model4.score(X_test, y_test)\n",
    "\n",
    "\n",
    "    data = {'model': ['RandomForest', 'DecisionTree', 'RidgeCV', 'Lasso'],\n",
    "        'Score_train': [train_RandomForest, train_DecisionTree, train_RidgeCV, train_LassoCV],\n",
    "        'score_test': [test_RandomForest, test_DecisionTree, test_RidgeCV, test_LassoCV]\n",
    "        }\n",
    "\n",
    "   # data = {'model': ['RandomForest', 'DecisionTree'],\n",
    "     #   'Score_train': [train_RandomForest, train_DecisionTree],\n",
    "     #   'score_test': [test_RandomForest, test_DecisionTree]\n",
    "     #   }\n",
    "\n",
    "    d = pd.DataFrame(data)\n",
    "    return d\n"
   ]
  },
  {
   "cell_type": "code",
   "execution_count": null,
   "id": "4b52d47f",
   "metadata": {},
   "outputs": [],
   "source": []
  },
  {
   "cell_type": "code",
   "execution_count": 4,
   "id": "ef48e2c0",
   "metadata": {},
   "outputs": [
    {
     "data": {
      "text/html": [
       "<div>\n",
       "<style scoped>\n",
       "    .dataframe tbody tr th:only-of-type {\n",
       "        vertical-align: middle;\n",
       "    }\n",
       "\n",
       "    .dataframe tbody tr th {\n",
       "        vertical-align: top;\n",
       "    }\n",
       "\n",
       "    .dataframe thead th {\n",
       "        text-align: right;\n",
       "    }\n",
       "</style>\n",
       "<table border=\"1\" class=\"dataframe\">\n",
       "  <thead>\n",
       "    <tr style=\"text-align: right;\">\n",
       "      <th></th>\n",
       "      <th>model</th>\n",
       "      <th>Score_train</th>\n",
       "      <th>score_test</th>\n",
       "    </tr>\n",
       "  </thead>\n",
       "  <tbody>\n",
       "    <tr>\n",
       "      <th>0</th>\n",
       "      <td>RandomForest</td>\n",
       "      <td>0.900080</td>\n",
       "      <td>0.437219</td>\n",
       "    </tr>\n",
       "    <tr>\n",
       "      <th>1</th>\n",
       "      <td>DecisionTree</td>\n",
       "      <td>1.000000</td>\n",
       "      <td>-0.003675</td>\n",
       "    </tr>\n",
       "    <tr>\n",
       "      <th>2</th>\n",
       "      <td>RidgeCV</td>\n",
       "      <td>0.378455</td>\n",
       "      <td>0.368373</td>\n",
       "    </tr>\n",
       "    <tr>\n",
       "      <th>3</th>\n",
       "      <td>Lasso</td>\n",
       "      <td>0.246258</td>\n",
       "      <td>0.274096</td>\n",
       "    </tr>\n",
       "  </tbody>\n",
       "</table>\n",
       "</div>"
      ],
      "text/plain": [
       "          model  Score_train  score_test\n",
       "0  RandomForest     0.900080    0.437219\n",
       "1  DecisionTree     1.000000   -0.003675\n",
       "2       RidgeCV     0.378455    0.368373\n",
       "3         Lasso     0.246258    0.274096"
      ]
     },
     "execution_count": 4,
     "metadata": {},
     "output_type": "execute_result"
    }
   ],
   "source": [
    "model(df,3,2,37) # all climate variables"
   ]
  },
  {
   "cell_type": "code",
   "execution_count": 9,
   "id": "e37d8658",
   "metadata": {},
   "outputs": [
    {
     "data": {
      "text/html": [
       "<div>\n",
       "<style scoped>\n",
       "    .dataframe tbody tr th:only-of-type {\n",
       "        vertical-align: middle;\n",
       "    }\n",
       "\n",
       "    .dataframe tbody tr th {\n",
       "        vertical-align: top;\n",
       "    }\n",
       "\n",
       "    .dataframe thead th {\n",
       "        text-align: right;\n",
       "    }\n",
       "</style>\n",
       "<table border=\"1\" class=\"dataframe\">\n",
       "  <thead>\n",
       "    <tr style=\"text-align: right;\">\n",
       "      <th></th>\n",
       "      <th>model</th>\n",
       "      <th>Score_train</th>\n",
       "      <th>score_test</th>\n",
       "    </tr>\n",
       "  </thead>\n",
       "  <tbody>\n",
       "    <tr>\n",
       "      <th>0</th>\n",
       "      <td>RandomForest</td>\n",
       "      <td>0.899740</td>\n",
       "      <td>0.447599</td>\n",
       "    </tr>\n",
       "    <tr>\n",
       "      <th>1</th>\n",
       "      <td>DecisionTree</td>\n",
       "      <td>0.993922</td>\n",
       "      <td>-0.292714</td>\n",
       "    </tr>\n",
       "    <tr>\n",
       "      <th>2</th>\n",
       "      <td>RidgeCV</td>\n",
       "      <td>0.366847</td>\n",
       "      <td>0.354862</td>\n",
       "    </tr>\n",
       "    <tr>\n",
       "      <th>3</th>\n",
       "      <td>Lasso</td>\n",
       "      <td>0.243701</td>\n",
       "      <td>0.271870</td>\n",
       "    </tr>\n",
       "  </tbody>\n",
       "</table>\n",
       "</div>"
      ],
      "text/plain": [
       "          model  Score_train  score_test\n",
       "0  RandomForest     0.899740    0.447599\n",
       "1  DecisionTree     0.993922   -0.292714\n",
       "2       RidgeCV     0.366847    0.354862\n",
       "3         Lasso     0.243701    0.271870"
      ]
     },
     "execution_count": 9,
     "metadata": {},
     "output_type": "execute_result"
    }
   ],
   "source": [
    "model(df,3,2,30)"
   ]
  },
  {
   "cell_type": "code",
   "execution_count": 14,
   "id": "4fa3befd",
   "metadata": {},
   "outputs": [
    {
     "data": {
      "text/html": [
       "<div>\n",
       "<style scoped>\n",
       "    .dataframe tbody tr th:only-of-type {\n",
       "        vertical-align: middle;\n",
       "    }\n",
       "\n",
       "    .dataframe tbody tr th {\n",
       "        vertical-align: top;\n",
       "    }\n",
       "\n",
       "    .dataframe thead th {\n",
       "        text-align: right;\n",
       "    }\n",
       "</style>\n",
       "<table border=\"1\" class=\"dataframe\">\n",
       "  <thead>\n",
       "    <tr style=\"text-align: right;\">\n",
       "      <th></th>\n",
       "      <th>model</th>\n",
       "      <th>Score_train</th>\n",
       "      <th>score_test</th>\n",
       "    </tr>\n",
       "  </thead>\n",
       "  <tbody>\n",
       "    <tr>\n",
       "      <th>0</th>\n",
       "      <td>RandomForest</td>\n",
       "      <td>0.891722</td>\n",
       "      <td>0.317857</td>\n",
       "    </tr>\n",
       "    <tr>\n",
       "      <th>1</th>\n",
       "      <td>DecisionTree</td>\n",
       "      <td>0.817425</td>\n",
       "      <td>0.158039</td>\n",
       "    </tr>\n",
       "    <tr>\n",
       "      <th>2</th>\n",
       "      <td>RidgeCV</td>\n",
       "      <td>0.389632</td>\n",
       "      <td>0.380010</td>\n",
       "    </tr>\n",
       "    <tr>\n",
       "      <th>3</th>\n",
       "      <td>Lasso</td>\n",
       "      <td>0.190666</td>\n",
       "      <td>0.182781</td>\n",
       "    </tr>\n",
       "  </tbody>\n",
       "</table>\n",
       "</div>"
      ],
      "text/plain": [
       "          model  Score_train  score_test\n",
       "0  RandomForest     0.891722    0.317857\n",
       "1  DecisionTree     0.817425    0.158039\n",
       "2       RidgeCV     0.389632    0.380010\n",
       "3         Lasso     0.190666    0.182781"
      ]
     },
     "execution_count": 14,
     "metadata": {},
     "output_type": "execute_result"
    }
   ],
   "source": [
    "model(df,3,2,14) # prediction using drivers"
   ]
  },
  {
   "cell_type": "code",
   "execution_count": 15,
   "id": "00873a55",
   "metadata": {},
   "outputs": [
    {
     "data": {
      "text/html": [
       "<div>\n",
       "<style scoped>\n",
       "    .dataframe tbody tr th:only-of-type {\n",
       "        vertical-align: middle;\n",
       "    }\n",
       "\n",
       "    .dataframe tbody tr th {\n",
       "        vertical-align: top;\n",
       "    }\n",
       "\n",
       "    .dataframe thead th {\n",
       "        text-align: right;\n",
       "    }\n",
       "</style>\n",
       "<table border=\"1\" class=\"dataframe\">\n",
       "  <thead>\n",
       "    <tr style=\"text-align: right;\">\n",
       "      <th></th>\n",
       "      <th>model</th>\n",
       "      <th>Score_train</th>\n",
       "      <th>score_test</th>\n",
       "    </tr>\n",
       "  </thead>\n",
       "  <tbody>\n",
       "    <tr>\n",
       "      <th>0</th>\n",
       "      <td>RandomForest</td>\n",
       "      <td>0.894674</td>\n",
       "      <td>0.375418</td>\n",
       "    </tr>\n",
       "    <tr>\n",
       "      <th>1</th>\n",
       "      <td>DecisionTree</td>\n",
       "      <td>0.999574</td>\n",
       "      <td>-0.344268</td>\n",
       "    </tr>\n",
       "    <tr>\n",
       "      <th>2</th>\n",
       "      <td>RidgeCV</td>\n",
       "      <td>0.324865</td>\n",
       "      <td>0.304363</td>\n",
       "    </tr>\n",
       "    <tr>\n",
       "      <th>3</th>\n",
       "      <td>Lasso</td>\n",
       "      <td>0.237388</td>\n",
       "      <td>0.263081</td>\n",
       "    </tr>\n",
       "  </tbody>\n",
       "</table>\n",
       "</div>"
      ],
      "text/plain": [
       "          model  Score_train  score_test\n",
       "0  RandomForest     0.894674    0.375418\n",
       "1  DecisionTree     0.999574   -0.344268\n",
       "2       RidgeCV     0.324865    0.304363\n",
       "3         Lasso     0.237388    0.263081"
      ]
     },
     "execution_count": 15,
     "metadata": {},
     "output_type": "execute_result"
    }
   ],
   "source": [
    "model(df,3,14,30) # prediction using climate index (extreme climate index)"
   ]
  },
  {
   "cell_type": "code",
   "execution_count": 16,
   "id": "cf941005",
   "metadata": {},
   "outputs": [
    {
     "data": {
      "text/html": [
       "<div>\n",
       "<style scoped>\n",
       "    .dataframe tbody tr th:only-of-type {\n",
       "        vertical-align: middle;\n",
       "    }\n",
       "\n",
       "    .dataframe tbody tr th {\n",
       "        vertical-align: top;\n",
       "    }\n",
       "\n",
       "    .dataframe thead th {\n",
       "        text-align: right;\n",
       "    }\n",
       "</style>\n",
       "<table border=\"1\" class=\"dataframe\">\n",
       "  <thead>\n",
       "    <tr style=\"text-align: right;\">\n",
       "      <th></th>\n",
       "      <th>model</th>\n",
       "      <th>Score_train</th>\n",
       "      <th>score_test</th>\n",
       "    </tr>\n",
       "  </thead>\n",
       "  <tbody>\n",
       "    <tr>\n",
       "      <th>0</th>\n",
       "      <td>RandomForest</td>\n",
       "      <td>0.898886</td>\n",
       "      <td>0.349340</td>\n",
       "    </tr>\n",
       "    <tr>\n",
       "      <th>1</th>\n",
       "      <td>DecisionTree</td>\n",
       "      <td>0.999966</td>\n",
       "      <td>0.021681</td>\n",
       "    </tr>\n",
       "    <tr>\n",
       "      <th>2</th>\n",
       "      <td>RidgeCV</td>\n",
       "      <td>0.320853</td>\n",
       "      <td>0.333698</td>\n",
       "    </tr>\n",
       "    <tr>\n",
       "      <th>3</th>\n",
       "      <td>Lasso</td>\n",
       "      <td>0.237559</td>\n",
       "      <td>0.279382</td>\n",
       "    </tr>\n",
       "  </tbody>\n",
       "</table>\n",
       "</div>"
      ],
      "text/plain": [
       "          model  Score_train  score_test\n",
       "0  RandomForest     0.898886    0.349340\n",
       "1  DecisionTree     0.999966    0.021681\n",
       "2       RidgeCV     0.320853    0.333698\n",
       "3         Lasso     0.237559    0.279382"
      ]
     },
     "execution_count": 16,
     "metadata": {},
     "output_type": "execute_result"
    }
   ],
   "source": [
    "model(df,3,30,37) # prediction using mean climate variable"
   ]
  },
  {
   "cell_type": "code",
   "execution_count": null,
   "id": "fb9b1695",
   "metadata": {},
   "outputs": [],
   "source": []
  },
  {
   "cell_type": "code",
   "execution_count": null,
   "id": "1ee8113c",
   "metadata": {},
   "outputs": [],
   "source": []
  },
  {
   "cell_type": "code",
   "execution_count": 9,
   "id": "acfa0e8f",
   "metadata": {},
   "outputs": [],
   "source": []
  },
  {
   "cell_type": "code",
   "execution_count": 41,
   "id": "9cf56aa9",
   "metadata": {},
   "outputs": [
    {
     "name": "stdout",
     "output_type": "stream",
     "text": [
      "model score on training data: 0.3560292843411855\n",
      "model score on testing data: 0.17095631025867963\n"
     ]
    }
   ],
   "source": [
    "model1 = RidgeCV()\n",
    "\n",
    "model1.fit(X_train, y_train)\n",
    "\n",
    "print(f'model score on training data: {model1.score(X_train, y_train)}')\n",
    "print(f'model score on testing data: {model1.score(X_test, y_test)}')"
   ]
  },
  {
   "cell_type": "code",
   "execution_count": 55,
   "id": "e3cc1bf4",
   "metadata": {},
   "outputs": [
    {
     "name": "stdout",
     "output_type": "stream",
     "text": [
      "model score on training data: 0.8947242379966791\n",
      "model score on testing data: 0.09540986359413484\n"
     ]
    }
   ],
   "source": [
    "\n",
    "model2 = RandomForestRegressor(max_depth=34)\n",
    "\n",
    "model2.fit(X_train, y_train)\n",
    "\n",
    "print(f'model score on training data: {model2.score(X_train, y_train)}')\n",
    "print(f'model score on testing data: {model2.score(X_test, y_test)}')"
   ]
  },
  {
   "cell_type": "code",
   "execution_count": null,
   "id": "8995a2e8",
   "metadata": {},
   "outputs": [],
   "source": []
  }
 ],
 "metadata": {
  "kernelspec": {
   "display_name": "Python 3",
   "language": "python",
   "name": "python3"
  },
  "language_info": {
   "codemirror_mode": {
    "name": "ipython",
    "version": 3
   },
   "file_extension": ".py",
   "mimetype": "text/x-python",
   "name": "python",
   "nbconvert_exporter": "python",
   "pygments_lexer": "ipython3",
   "version": "3.8.8"
  }
 },
 "nbformat": 4,
 "nbformat_minor": 5
}
