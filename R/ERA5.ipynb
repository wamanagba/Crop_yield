{
 "cells": [
  {
   "cell_type": "code",
   "execution_count": 1,
   "metadata": {},
   "outputs": [
    {
     "name": "stderr",
     "output_type": "stream",
     "text": [
      "2021-10-01 01:43:03,973 INFO Welcome to the CDS\n",
      "2021-10-01 01:43:03,973 INFO Sending request to https://cds.climate.copernicus.eu/api/v2/resources/reanalysis-era5-single-levels\n",
      "2021-10-01 01:43:04,155 INFO Request is queued\n",
      "2021-10-01 01:43:05,302 INFO Request is running\n",
      "2021-10-01 04:07:10,102 INFO Request is completed\n",
      "2021-10-01 04:07:10,102 INFO Downloading https://download-0011.copernicus-climate.eu/cache-compute-0011/cache/data6/adaptor.mars.internal-1633052584.651313-8803-7-309c6463-7887-46d5-9759-b8aba0aa2a2d.grib to download.grib (191M)\n",
      "2021-10-01 04:29:21,491 INFO Download rate 146.9K/s                                                                    \n"
     ]
    },
    {
     "data": {
      "text/plain": [
       "Result(content_length=200275200,content_type=application/x-grib,location=https://download-0011.copernicus-climate.eu/cache-compute-0011/cache/data6/adaptor.mars.internal-1633052584.651313-8803-7-309c6463-7887-46d5-9759-b8aba0aa2a2d.grib)"
      ]
     },
     "execution_count": 1,
     "metadata": {},
     "output_type": "execute_result"
    }
   ],
   "source": [
    "import cdsapi\n",
    "\n",
    "c = cdsapi.Client()\n",
    "\n",
    "c.retrieve(\n",
    "    'reanalysis-era5-single-levels',\n",
    "    {\n",
    "        'product_type': 'reanalysis',\n",
    "        'format': 'grib',\n",
    "        'variable': 'maximum_2m_temperature_since_previous_post_processing',\n",
    "        'year': [\n",
    "            '1999', '2000', '2001',\n",
    "            '2002', '2003', '2004',\n",
    "            '2005', '2006', '2007',\n",
    "            '2008', '2009', '2010',\n",
    "            '2011', '2012', '2013',\n",
    "            '2014', '2015', '2016',\n",
    "            '2017',\n",
    "        ],\n",
    "        'month': [\n",
    "            '04', '05', '06',\n",
    "            '07', '08', '09',\n",
    "            '10', '11',\n",
    "        ],\n",
    "        'day': [\n",
    "            '01', '02', '03',\n",
    "            '04', '05', '06',\n",
    "            '07', '08', '09',\n",
    "            '10', '11', '12',\n",
    "            '13', '14', '15',\n",
    "            '16', '17', '18',\n",
    "            '19', '20', '21',\n",
    "            '22', '23', '24',\n",
    "            '25', '26', '27',\n",
    "            '28', '29', '30',\n",
    "            '31',\n",
    "        ],\n",
    "        'time': [\n",
    "            '00:00', '01:00', '02:00',\n",
    "            '03:00', '04:00', '05:00',\n",
    "            '06:00', '07:00', '08:00',\n",
    "            '09:00', '10:00', '11:00',\n",
    "            '12:00', '13:00', '14:00',\n",
    "            '15:00', '16:00', '17:00',\n",
    "            '18:00', '19:00', '20:00',\n",
    "            '21:00', '22:00', '23:00',\n",
    "        ],\n",
    "        'area': [\n",
    "            15.2, -5.55, 9.3,\n",
    "            2.5,\n",
    "        ],\n",
    "    },\n",
    "    'download.grib')"
   ]
  },
  {
   "cell_type": "code",
   "execution_count": null,
   "metadata": {},
   "outputs": [],
   "source": []
  },
  {
   "cell_type": "code",
   "execution_count": 2,
   "metadata": {},
   "outputs": [
    {
     "name": "stderr",
     "output_type": "stream",
     "text": [
      "2021-10-01 11:37:13,283 INFO Welcome to the CDS\n",
      "2021-10-01 11:37:13,286 INFO Sending request to https://cds.climate.copernicus.eu/api/v2/resources/reanalysis-era5-single-levels\n",
      "2021-10-01 11:37:13,892 INFO Request is queued\n",
      "2021-10-01 11:37:15,331 INFO Request is running\n",
      "2021-10-01 14:02:55,287 INFO Request is completed\n",
      "2021-10-01 14:02:55,290 INFO Downloading https://download-0012.copernicus-climate.eu/cache-compute-0012/cache/data2/adaptor.mars.internal-1633088233.827129-3276-6-c34acd18-b333-4463-b962-22f3d621e85e.grib to Minimum_Temp_2000_2017.grib (180.9M)\n",
      "2021-10-01 14:56:54,595 INFO Download rate 57.2K/s                                                                     \n"
     ]
    },
    {
     "data": {
      "text/plain": [
       "Result(content_length=189734400,content_type=application/x-grib,location=https://download-0012.copernicus-climate.eu/cache-compute-0012/cache/data2/adaptor.mars.internal-1633088233.827129-3276-6-c34acd18-b333-4463-b962-22f3d621e85e.grib)"
      ]
     },
     "execution_count": 2,
     "metadata": {},
     "output_type": "execute_result"
    }
   ],
   "source": [
    "import cdsapi\n",
    "\n",
    "c = cdsapi.Client()\n",
    "\n",
    "c.retrieve(\n",
    "    'reanalysis-era5-single-levels',\n",
    "    {\n",
    "        'product_type': 'reanalysis',\n",
    "        'format': 'grib',\n",
    "        'variable': 'minimum_2m_temperature_since_previous_post_processing',\n",
    "        'year': [\n",
    "            '2000', '2001', '2002',\n",
    "            '2003', '2004', '2005',\n",
    "            '2006', '2007', '2008',\n",
    "            '2009', '2010', '2011',\n",
    "            '2012', '2013', '2014',\n",
    "            '2015', '2016', '2017',\n",
    "        ],\n",
    "        'month': [\n",
    "            '04', '05', '06',\n",
    "            '07', '08', '09',\n",
    "            '10', '11',\n",
    "        ],\n",
    "        'day': [\n",
    "            '01', '02', '03',\n",
    "            '04', '05', '06',\n",
    "            '07', '08', '09',\n",
    "            '10', '11', '12',\n",
    "            '13', '14', '15',\n",
    "            '16', '17', '18',\n",
    "            '19', '20', '21',\n",
    "            '22', '23', '24',\n",
    "            '25', '26', '27',\n",
    "            '28', '29', '30',\n",
    "            '31',\n",
    "        ],\n",
    "        'time': [\n",
    "            '00:00', '01:00', '02:00',\n",
    "            '03:00', '04:00', '05:00',\n",
    "            '06:00', '07:00', '08:00',\n",
    "            '09:00', '10:00', '11:00',\n",
    "            '12:00', '13:00', '14:00',\n",
    "            '15:00', '16:00', '17:00',\n",
    "            '18:00', '19:00', '20:00',\n",
    "            '21:00', '22:00', '23:00',\n",
    "        ],\n",
    "        'area': [\n",
    "            15.2, -5.55, 9.3,\n",
    "            2.5,\n",
    "        ],\n",
    "    },\n",
    "    'Minimum_Temp_2000_2017.grib')"
   ]
  },
  {
   "cell_type": "code",
   "execution_count": null,
   "metadata": {},
   "outputs": [],
   "source": []
  }
 ],
 "metadata": {
  "kernelspec": {
   "display_name": "Python 3",
   "language": "python",
   "name": "python3"
  },
  "language_info": {
   "codemirror_mode": {
    "name": "ipython",
    "version": 3
   },
   "file_extension": ".py",
   "mimetype": "text/x-python",
   "name": "python",
   "nbconvert_exporter": "python",
   "pygments_lexer": "ipython3",
   "version": "3.7.6"
  }
 },
 "nbformat": 4,
 "nbformat_minor": 5
}
