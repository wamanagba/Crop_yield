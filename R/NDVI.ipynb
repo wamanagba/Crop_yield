{
 "cells": [
  {
   "cell_type": "code",
   "execution_count": 4,
   "id": "bd64b822",
   "metadata": {},
   "outputs": [
    {
     "data": {
      "text/plain": [
       "'C:\\\\Users\\\\Yacou\\\\Desktop\\\\Yacouba_New\\\\climte\\\\Data\\\\NOAA_NDVI\\\\1999'"
      ]
     },
     "execution_count": 4,
     "metadata": {},
     "output_type": "execute_result"
    }
   ],
   "source": [
    "pwd"
   ]
  },
  {
   "cell_type": "code",
   "execution_count": 5,
   "id": "f0f72807",
   "metadata": {},
   "outputs": [],
   "source": [
    "import os\n",
    "#import webbrowser\n",
    "import urllib as u\n",
    "import wget\n",
    "t0=list()"
   ]
  },
  {
   "cell_type": "code",
   "execution_count": null,
   "id": "581a95e1",
   "metadata": {},
   "outputs": [
    {
     "name": "stdout",
     "output_type": "stream",
     "text": [
      "  1% [                                                                        ]   311296 / 28480924"
     ]
    }
   ],
   "source": [
    "with open(\"yac.txt\", \"r\") as f:\n",
    "    for line in f.readlines():\n",
    "        c=str(line[6:41])\n",
    "        b=(str(line[22:26]))\n",
    "        if '1999' in b and 'VH.VCI' in c:\n",
    "            a=(str(line[22:29]))\n",
    "            k= \"https://www.star.nesdis.noaa.gov/pub/corp/scsb/wguo/data/Blended_VH_4km/geo_TIFF/\"+str(line[6:40])\n",
    "            wget.download(k)\n",
    "            t0.append(a)\n",
    "            print(k)"
   ]
  },
  {
   "cell_type": "code",
   "execution_count": null,
   "id": "bc96ef86",
   "metadata": {},
   "outputs": [],
   "source": [
    "len(t)"
   ]
  },
  {
   "cell_type": "code",
   "execution_count": 13,
   "id": "1cae4cd7",
   "metadata": {},
   "outputs": [
    {
     "name": "stdout",
     "output_type": "stream",
     "text": [
      "['2000001', '2000002', '2000003', '2000004', '2000005', '2000006', '2000007', '2000008', '2000009', '2000010', '2000011', '2000012', '2000013', '2000014', '2000015', '2000016', '2000017', '2000018', '2000019', '2000020', '2000021', '2000022', '2000023', '2000024', '2000025', '2000026', '2000027', '2000028', '2000029', '2000030', '2000031', '2000032', '2000033', '2000034', '2000035', '2000036', '2000037', '2000038', '2000039', '2000040', '2000041', '2000042', '2000043', '2000044', '2000045', '2000046', '2000047', '2000048', '2000049', '2000050', '2000051', '2000052']\n"
     ]
    }
   ],
   "source": [
    "print(t)"
   ]
  },
  {
   "cell_type": "code",
   "execution_count": 21,
   "id": "e791941a",
   "metadata": {},
   "outputs": [
    {
     "data": {
      "text/plain": [
       "'https://www.star.nesdis.noaa.gov/pub/corp/scsb/wguo/data/Blended_VH_4km/geo_TIFF/VHP.G04.C07.NJ.P2000001.SM.SMN.tif\\t'"
      ]
     },
     "execution_count": 21,
     "metadata": {},
     "output_type": "execute_result"
    }
   ],
   "source": [
    "k"
   ]
  },
  {
   "cell_type": "code",
   "execution_count": null,
   "id": "229df413",
   "metadata": {},
   "outputs": [],
   "source": []
  }
 ],
 "metadata": {
  "kernelspec": {
   "display_name": "Python 3",
   "language": "python",
   "name": "python3"
  },
  "language_info": {
   "codemirror_mode": {
    "name": "ipython",
    "version": 3
   },
   "file_extension": ".py",
   "mimetype": "text/x-python",
   "name": "python",
   "nbconvert_exporter": "python",
   "pygments_lexer": "ipython3",
   "version": "3.8.8"
  }
 },
 "nbformat": 4,
 "nbformat_minor": 5
}
