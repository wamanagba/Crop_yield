{
 "cells": [
  {
   "cell_type": "markdown",
   "id": "4dbe49cf",
   "metadata": {},
   "source": [
    "# Boosting"
   ]
  },
  {
   "cell_type": "code",
   "execution_count": 17,
   "id": "59a96001",
   "metadata": {},
   "outputs": [],
   "source": [
    "## imports ##\n",
    "import numpy as np\n",
    "import pandas as pd\n",
    "from typing import Dict, Any, List\n",
    "from sklearn.base import clone\n",
    "import matplotlib.pyplot as plt\n",
    "from sklearn.datasets import load_boston\n",
    "from sklearn.model_selection import StratifiedKFold,cross_validate\n",
    "from sklearn.tree import DecisionTreeRegressor\n",
    "from sklearn.ensemble import RandomForestRegressor\n",
    "\n",
    "from sklearn.metrics import mean_absolute_error,mean_squared_error,r2_score,make_scorer"
   ]
  },
  {
   "cell_type": "code",
   "execution_count": 18,
   "id": "be11ae8a",
   "metadata": {},
   "outputs": [],
   "source": [
    "## boosting regressor ##\n",
    "class BoostingRegressor(object):\n",
    "    #initializer\n",
    "    def __init__(self, weak_learner : Any, n_elements : int = 100, learning_rate : float = 0.01) -> None:\n",
    "        self.weak_learner  = weak_learner\n",
    "        self.n_elements    = n_elements\n",
    "        self.learning_rate = learning_rate\n",
    "        self.f             = []\n",
    "        self.residuals     = []\n",
    "        \n",
    "    #destructor\n",
    "    def __del__(self) -> None:\n",
    "        del self.weak_learner\n",
    "        del self.n_elements\n",
    "        del self.learning_rate\n",
    "        del self.f\n",
    "        del self.residuals\n",
    "    \n",
    "    #public function to return model parameters\n",
    "    def get_params(self, deep : bool = False) -> Dict:\n",
    "        return {'weak_learner':self.weak_learner,'n_elements':self.n_elements,'learning_rate':self.learning_rate}\n",
    "        #public function to train the ensemble\n",
    "    def fit(self, X_train : np.array, y_train : np.array) -> None:\n",
    "        #initialize residuals\n",
    "        r = np.copy(y_train).astype(float)\n",
    "        #loop through the specified number of iterations in the ensemble\n",
    "        for _ in range(self.n_elements):\n",
    "            #make a copy of the weak learner\n",
    "            model = clone(self.weak_learner)\n",
    "            #fit the weak learner on the current dataset\n",
    "            model.fit(X_train,r)\n",
    "            #update the residuals\n",
    "            r -= self.learning_rate*model.predict(X_train)\n",
    "            #append resulting model\n",
    "            self.f.append(model)\n",
    "            #append current mean residual\n",
    "            self.residuals.append(np.mean(r))    \n",
    "            \n",
    "    #public function to return residuals\n",
    "    def get_residuals(self) -> List:\n",
    "        return(self.residuals)\n",
    "    \n",
    "    #public function to generate predictions\n",
    "    def predict(self, X_test : np.array) -> np.array:\n",
    "        #initialize output\n",
    "        y_pred = np.zeros((X_test.shape[0]))\n",
    "        #traverse ensemble to generate predictions\n",
    "        for model in self.f:\n",
    "            y_pred += self.learning_rate*model.predict(X_test)\n",
    "        #return predictions\n",
    "        return(y_pred)"
   ]
  },
  {
   "cell_type": "markdown",
   "id": "b80f85a1",
   "metadata": {},
   "source": [
    "### Data"
   ]
  },
  {
   "cell_type": "code",
   "execution_count": 19,
   "id": "748319d9",
   "metadata": {},
   "outputs": [],
   "source": [
    "data=pd.read_csv('data_mais.csv')"
   ]
  },
  {
   "cell_type": "code",
   "execution_count": 20,
   "id": "e79cb038",
   "metadata": {},
   "outputs": [],
   "source": [
    "X = data.iloc[:, 1:38]\n",
    "y = data.iloc[:, 38]"
   ]
  },
  {
   "cell_type": "code",
   "execution_count": 23,
   "id": "de5a1a55",
   "metadata": {},
   "outputs": [],
   "source": [
    "## initialize a weak learner ##\n",
    "weak_m = RandomForestRegressor(max_depth=1)\n",
    "## set the learning rates to try ##\n",
    "learning_rates = [0.1,0.3,0.2]"
   ]
  },
  {
   "cell_type": "code",
   "execution_count": 24,
   "id": "9b46d916",
   "metadata": {},
   "outputs": [],
   "source": [
    "## loop through the learning rates, record residuals ##\n",
    "dfRes = pd.DataFrame()\n",
    "for lr in learning_rates:\n",
    "\n",
    "    #declare a boosting regressor\n",
    "    rgr = BoostingRegressor(weak_learner=weak_m, n_elements=1000, learning_rate=lr)\n",
    "    \n",
    "    #fit the model\n",
    "    rgr.fit(X,y)\n",
    "    \n",
    "    #record residuals\n",
    "    dfRes[str(lr)] = rgr.get_residuals()"
   ]
  },
  {
   "cell_type": "code",
   "execution_count": 25,
   "id": "e106f060",
   "metadata": {},
   "outputs": [
    {
     "data": {
      "image/png": "[encoded data removed]",
      "text/plain": [
       "<Figure size 432x288 with 1 Axes>"
      ]
     },
     "metadata": {
      "needs_background": "light"
     },
     "output_type": "display_data"
    }
   ],
   "source": [
    "## plot the residuals ##\n",
    "dfRes.plot()\n",
    "plt.title('Residuals by Number of Component Trees in Boosting Ensemble')\n",
    "plt.xlabel('Number of Component Trees')\n",
    "plt.ylabel('Mean Residual')\n",
    "plt.show()"
   ]
  },
  {
   "cell_type": "code",
   "execution_count": 26,
   "id": "b8e89a19",
   "metadata": {},
   "outputs": [
    {
     "name": "stdout",
     "output_type": "stream",
     "text": [
      "Learning Rate:  0.1\n",
      "Mean MAE: 300.29\n",
      "Mean MSE: 157256.42\n",
      "Mean R2: 0.44\n",
      "\n",
      "Learning Rate:  0.3\n",
      "Mean MAE: 318.62\n",
      "Mean MSE: 174988.31\n",
      "Mean R2: 0.37\n",
      "\n",
      "Learning Rate:  0.2\n",
      "Mean MAE: 310.70\n",
      "Mean MSE: 166927.72\n",
      "Mean R2: 0.40\n",
      "\n"
     ]
    }
   ],
   "source": [
    "## define the scoring metrics ##\n",
    "scoring_metrics = {'mae': make_scorer(mean_absolute_error), \n",
    "                   'mse': make_scorer(mean_squared_error),\n",
    "                   'r2': make_scorer(r2_score)}\n",
    "## loop through each learning rate & evaluate for n_elements=1000 ##\n",
    "for lr in learning_rates:\n",
    "    #define the model\n",
    "    rgr = BoostingRegressor(weak_learner=weak_m, n_elements=1000, learning_rate=lr)\n",
    "    #cross validate\n",
    "    dcScores = cross_validate(rgr,X,y,cv=10,scoring=scoring_metrics)\n",
    "    #report results\n",
    "    print('Learning Rate: ',lr)\n",
    "    print('Mean MAE: %.2f' % np.mean(dcScores['test_mae']))\n",
    "    print('Mean MSE: %.2f' % np.mean(dcScores['test_mse']))\n",
    "    print('Mean R2: %.2f' % np.mean(dcScores['test_r2']))\n",
    "    print('')"
   ]
  },
  {
   "cell_type": "code",
   "execution_count": 28,
   "id": "47bf7dd7",
   "metadata": {},
   "outputs": [
    {
     "data": {
      "text/plain": [
       "55000"
      ]
     },
     "execution_count": 28,
     "metadata": {},
     "output_type": "execute_result"
    }
   ],
   "source": [
    "100*550"
   ]
  },
  {
   "cell_type": "code",
   "execution_count": null,
   "id": "4e19b55e",
   "metadata": {},
   "outputs": [],
   "source": []
  }
 ],
 "metadata": {
  "kernelspec": {
   "display_name": "Python 3",
   "language": "python",
   "name": "python3"
  },
  "language_info": {
   "codemirror_mode": {
    "name": "ipython",
    "version": 3
   },
   "file_extension": ".py",
   "mimetype": "text/x-python",
   "name": "python",
   "nbconvert_exporter": "python",
   "pygments_lexer": "ipython3",
   "version": "3.8.8"
  }
 },
 "nbformat": 4,
 "nbformat_minor": 5
}
