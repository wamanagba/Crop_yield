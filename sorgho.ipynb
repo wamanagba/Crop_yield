{
 "cells": [
  {
   "cell_type": "code",
   "execution_count": 1,
   "id": "5a960a21",
   "metadata": {},
   "outputs": [],
   "source": [
    "import pandas as pd\n",
    "import numpy as np\n",
    "from sklearn.preprocessing import OneHotEncoder, LabelEncoder, label_binarize, StandardScaler, MinMaxScaler\n",
    "from sklearn.model_selection import train_test_split\n",
    "from sklearn.ensemble import RandomForestRegressor\n",
    "from sklearn.tree import DecisionTreeRegressor\n",
    "from sklearn.linear_model import RidgeCV,LassoCV,Lasso\n",
    "from sklearn.decomposition import PCA\n",
    "import matplotlib.pyplot as plt\n",
    "from sklearn.tree import DecisionTreeRegressor\n"
   ]
  },
  {
   "cell_type": "code",
   "execution_count": 2,
   "id": "f3c7905f",
   "metadata": {},
   "outputs": [],
   "source": [
    "df=data = pd.read_csv('sorgho_all.csv')"
   ]
  },
  {
   "cell_type": "code",
   "execution_count": 3,
   "id": "fd10745e",
   "metadata": {},
   "outputs": [],
   "source": [
    "vect=['Bale','Banwa','Kossi','Mouhoun',\t'Nayala',\t'Sourou',\t'Comoe'\t,\n",
    "      'Leraba',\t'Boulgou',\t'Koulpelogo',\t'Kouritenga',\t'Bam'\t,'Namentenga',\n",
    "      'Sanmatenga',\t'Boulkiemde',\t'Sanguie'\t,'Sissili',\t'Ziro',\t'Bazega',\t'Nahouri',\n",
    "      'Zoundweogo',\t'Kadiogo','Gnagna',\t'Gourma',\t'Komandjoari',\t'Kompienga'\t,'Tapoa',\n",
    "      'Houet'\t,'Kenedougou',\t'Tuy','Loroum',\t'Passore',\t'Yatenga',\t'Zondoma',\t'Ganzourgou',\n",
    "      'Kourweogo',\t'Oubritenga',\n",
    "      'Oudalan','Seno',\t'Soum',\t'Yagha','Bougouriba',\t'Ioba',\t'Noumbiel',\t'Poni']"
   ]
  },
  {
   "cell_type": "code",
   "execution_count": 23,
   "id": "4b2ab0b3",
   "metadata": {},
   "outputs": [
    {
     "data": {
      "text/plain": [
       "year                  0.277167\n",
       "driver.TSA           -0.234917\n",
       "Driver.TNA            0.374834\n",
       "sahel_rainfall        0.440296\n",
       "QBO                  -0.370935\n",
       "NAO                  -0.297762\n",
       "gmsst                 0.304412\n",
       "EA                   -0.582084\n",
       "AMM_sst               0.380830\n",
       "Driver.NTA            0.418869\n",
       "AMO_sst               0.329522\n",
       "Driver.AO            -0.287181\n",
       "PDO                   0.132951\n",
       "PRCPTOT               0.470003\n",
       "R10mm                 0.568680\n",
       "R1mm                  0.135516\n",
       "R20mm                 0.247805\n",
       "R5mm                  0.185548\n",
       "R95pTOT               0.669732\n",
       "R99pTOT               0.125169\n",
       "RX1day                0.262480\n",
       "RX5day                0.150911\n",
       "SDII                  0.419936\n",
       "CWD                   0.040972\n",
       "CDD                  -0.197064\n",
       "TNn                   0.105113\n",
       "TNx                  -0.364380\n",
       "TXx                   0.039026\n",
       "TXn                  -0.403119\n",
       "Chirts_Tmax_Temp     -0.320154\n",
       "Chirts_Tmin_Temp     -0.136789\n",
       "ERA5_Pressure         0.351781\n",
       "ERA5_wins             0.342143\n",
       "chirps_Prec           0.469213\n",
       "ERA5_soil_moisture    0.182323\n",
       "NDVI                  0.044247\n",
       "sorgho                1.000000\n",
       "Name: 0, dtype: float64"
      ]
     },
     "execution_count": 23,
     "metadata": {},
     "output_type": "execute_result"
    }
   ],
   "source": [
    "dt=df.loc[df['province'].isin(['Kadiogo'])]\n",
    "dt"
   ]
  },
  {
   "cell_type": "code",
   "execution_count": 5,
   "id": "b7f6f200",
   "metadata": {},
   "outputs": [],
   "source": [
    "X = dt.iloc[:, 1:37]\n",
    "y = dt.iloc[:, 37]\n",
    "X = pd.DataFrame(StandardScaler().fit_transform(X))\n",
    "y=pd.array(y)\n",
    "y=pd.DataFrame(y)\n"
   ]
  },
  {
   "cell_type": "code",
   "execution_count": 24,
   "id": "0346a9cb",
   "metadata": {},
   "outputs": [
    {
     "data": {
      "text/plain": [
       "14"
      ]
     },
     "execution_count": 24,
     "metadata": {},
     "output_type": "execute_result"
    }
   ],
   "source": [
    "X=X.rename(columns={0:'year', 1:'driver.TSA', 2:'Driver.TNA', 3:'sahel_rainfall', 4:'QBO', 5:'NAO',\n",
    "       6:'gmsst', 7:'EA', 8:'AMM_sst', 9:'Driver.NTA', 10:'AMO_sst', 11:'Driver.AO', 12:'PDO',\n",
    "       13:'PRCPTOT', 14:'R10mm', 15:'R1mm', 16:'R20mm', 17:'R5mm', 18:'R95pTOT', 19:'R99pTOT',\n",
    "       20:'RX1day', 21:'RX5day',22: 'SDII', 23:'CWD', 24:'CDD', 25:'TNn', 26:'TNx', 27:'TXx', 28:'TXn',\n",
    "       29:'Chirts_Tmax_Temp', 30:'Chirts_Tmin_Temp', 31:'ERA5_Pressure', 32:'ERA5_wins',\n",
    "       33:'chirps_Prec', 34:'ERA5_soil_moisture', 35:'NDVI'})\n",
    "len(X)"
   ]
  },
  {
   "cell_type": "code",
   "execution_count": 7,
   "id": "723a94d7",
   "metadata": {},
   "outputs": [],
   "source": [
    "X_train, X_test, y_train, y_test = train_test_split(X, y,test_size=0.2,random_state=3)\n"
   ]
  },
  {
   "cell_type": "code",
   "execution_count": 8,
   "id": "6e440a6e",
   "metadata": {},
   "outputs": [
    {
     "data": {
      "text/plain": [
       "Lasso(normalize=True, tol=0.001)"
      ]
     },
     "execution_count": 8,
     "metadata": {},
     "output_type": "execute_result"
    }
   ],
   "source": [
    "model3 = RandomForestRegressor(n_estimators = 1500,max_depth=23)\n",
    "model4 = DecisionTreeRegressor(max_depth=80) \n",
    "model1 = RidgeCV()\n",
    "model2= Lasso(normalize=True, tol=1e-3)\n",
    "model1.fit(X_train, y_train.values.ravel())\n",
    "model3.fit(X_train, y_train.values.ravel())\n",
    "model4.fit(X_train, y_train.values.ravel())\n",
    "model2.fit(X_train, y_train.values.ravel())"
   ]
  },
  {
   "cell_type": "code",
   "execution_count": 9,
   "id": "1df396b3",
   "metadata": {},
   "outputs": [
    {
     "name": "stdout",
     "output_type": "stream",
     "text": [
      "model score on RidgeCV: -0.09364707408852846\n",
      "model score on RandomForestRegressor: 0.316052643039334\n",
      "model score on DecisionTreeRegressor: -0.19001177779414147\n",
      "model score on Lasso: -0.6105659031552075\n"
     ]
    }
   ],
   "source": [
    "print(f'model score on RidgeCV: {model1.score(X_test, y_test)}')\n",
    "print(f'model score on RandomForestRegressor: {model3.score(X_test, y_test)}')\n",
    "print(f'model score on DecisionTreeRegressor: {model4.score(X_test, y_test)}')\n",
    "print(f'model score on Lasso: {model2.score(X_test, y_test)}')\n"
   ]
  },
  {
   "cell_type": "code",
   "execution_count": null,
   "id": "eda88bcd",
   "metadata": {},
   "outputs": [],
   "source": []
  },
  {
   "cell_type": "code",
   "execution_count": 10,
   "id": "a5639c5c",
   "metadata": {},
   "outputs": [],
   "source": [
    "def model(df,n):\n",
    "    from sklearn.preprocessing import OneHotEncoder, LabelEncoder, label_binarize, StandardScaler, MinMaxScaler\n",
    "    from sklearn.model_selection import train_test_split\n",
    "\n",
    "    #df.reset_index(inplace = True)\n",
    "    #df.pop('index')\n",
    "\n",
    "    X = df.iloc[:, 1:37]\n",
    "    y = df.iloc[:, 37]\n",
    "    X = pd.DataFrame(StandardScaler().fit_transform(X))\n",
    "    y=pd.array(y)\n",
    "    y=pd.DataFrame(y)\n",
    "    X_train, X_test, y_train, y_test = train_test_split(X, y,test_size=0.17,random_state=n)\n",
    "\n",
    "\n",
    "    model1 = RidgeCV()\n",
    "    model2 = Lasso(normalize=True, tol=1e-3)\n",
    "    model3 = RandomForestRegressor(n_estimators = 2000,max_depth=80)\n",
    "    model4 = DecisionTreeRegressor(max_depth=80) \n",
    "\n",
    "    model1.fit(X_train, y_train.values.ravel())\n",
    "    model2.fit(X_train, y_train.values.ravel())\n",
    "    model3.fit(X_train, y_train.values.ravel())\n",
    "    model4.fit(X_train, y_train.values.ravel())\n",
    "\n",
    "    train_RidgeCV=model1.score(X_train, y_train)\n",
    "    test_RidgeCV=model1.score(X_test, y_test)\n",
    "\n",
    "    train_LassoCV=model2.score(X_train, y_train)\n",
    "    test_LassoCV=model2.score(X_test, y_test)\n",
    "\n",
    "    train_RandomForest=model3.score(X_train, y_train)\n",
    "    test_RandomForest=model3.score(X_test, y_test)\n",
    "\n",
    "    train_DecisionTree=model4.score(X_train, y_train)\n",
    "    test_DecisionTree=model4.score(X_test, y_test)\n",
    "\n",
    "\n",
    "    data = {'model': ['RandomForest', 'DecisionTree', 'RidgeCV', 'Lasso'],\n",
    "        'Score_train': [train_RandomForest, train_DecisionTree, train_RidgeCV, train_LassoCV],\n",
    "        'score_test': [test_RandomForest, test_DecisionTree, test_RidgeCV, test_LassoCV]\n",
    "        }\n",
    "\n",
    "   # data = {'model': ['RandomForest', 'DecisionTree'],\n",
    "     #   'Score_train': [train_RandomForest, train_DecisionTree],\n",
    "     #   'score_test': [test_RandomForest, test_DecisionTree]\n",
    "     #   }\n",
    "\n",
    "    d = pd.DataFrame(data)\n",
    "    return d\n"
   ]
  },
  {
   "cell_type": "code",
   "execution_count": 11,
   "id": "f68f2208",
   "metadata": {},
   "outputs": [],
   "source": [
    "def model_province(dt,prov,n):\n",
    "    m=prov\n",
    "    m=np.repeat(m,4, axis=0)\n",
    "    m={'province':m}\n",
    "    m=pd.DataFrame(m)\n",
    "    d=dt.loc[dt['province'].isin([prov])] #(X, y,test_size=0.17,random_state=3)\n",
    "    m=pd.concat([m,model(d,n)],axis = 1)\n",
    "    return m"
   ]
  },
  {
   "cell_type": "code",
   "execution_count": 13,
   "id": "32709c6e",
   "metadata": {},
   "outputs": [
    {
     "data": {
      "text/html": [
       "<div>\n",
       "<style scoped>\n",
       "    .dataframe tbody tr th:only-of-type {\n",
       "        vertical-align: middle;\n",
       "    }\n",
       "\n",
       "    .dataframe tbody tr th {\n",
       "        vertical-align: top;\n",
       "    }\n",
       "\n",
       "    .dataframe thead th {\n",
       "        text-align: right;\n",
       "    }\n",
       "</style>\n",
       "<table border=\"1\" class=\"dataframe\">\n",
       "  <thead>\n",
       "    <tr style=\"text-align: right;\">\n",
       "      <th></th>\n",
       "      <th>province</th>\n",
       "      <th>model</th>\n",
       "      <th>Score_train</th>\n",
       "      <th>score_test</th>\n",
       "    </tr>\n",
       "  </thead>\n",
       "  <tbody>\n",
       "    <tr>\n",
       "      <th>0</th>\n",
       "      <td>Ganzourgou</td>\n",
       "      <td>RandomForest</td>\n",
       "      <td>0.833511</td>\n",
       "      <td>-0.574545</td>\n",
       "    </tr>\n",
       "    <tr>\n",
       "      <th>1</th>\n",
       "      <td>Ganzourgou</td>\n",
       "      <td>DecisionTree</td>\n",
       "      <td>1.000000</td>\n",
       "      <td>-1.793610</td>\n",
       "    </tr>\n",
       "    <tr>\n",
       "      <th>2</th>\n",
       "      <td>Ganzourgou</td>\n",
       "      <td>RidgeCV</td>\n",
       "      <td>0.846537</td>\n",
       "      <td>-0.080984</td>\n",
       "    </tr>\n",
       "    <tr>\n",
       "      <th>3</th>\n",
       "      <td>Ganzourgou</td>\n",
       "      <td>Lasso</td>\n",
       "      <td>0.996592</td>\n",
       "      <td>-1.346912</td>\n",
       "    </tr>\n",
       "  </tbody>\n",
       "</table>\n",
       "</div>"
      ],
      "text/plain": [
       "     province         model  Score_train  score_test\n",
       "0  Ganzourgou  RandomForest     0.833511   -0.574545\n",
       "1  Ganzourgou  DecisionTree     1.000000   -1.793610\n",
       "2  Ganzourgou       RidgeCV     0.846537   -0.080984\n",
       "3  Ganzourgou         Lasso     0.996592   -1.346912"
      ]
     },
     "execution_count": 13,
     "metadata": {},
     "output_type": "execute_result"
    }
   ],
   "source": [
    "model_province(df,'Ganzourgou',3)"
   ]
  },
  {
   "cell_type": "code",
   "execution_count": 14,
   "id": "7e4622b8",
   "metadata": {},
   "outputs": [],
   "source": [
    "def Data(data,v,n):\n",
    "    D=pd.DataFrame()\n",
    "    for i in range(0,len(v)):\n",
    "        P=v[i]\n",
    "        D=pd.concat([D,model_province(data,P,n)],axis = 0)\n",
    "    return D"
   ]
  },
  {
   "cell_type": "code",
   "execution_count": 15,
   "id": "7ccf9875",
   "metadata": {},
   "outputs": [
    {
     "data": {
      "text/plain": [
       "'Banwa'"
      ]
     },
     "execution_count": 15,
     "metadata": {},
     "output_type": "execute_result"
    }
   ],
   "source": [
    "vect[1]"
   ]
  },
  {
   "cell_type": "code",
   "execution_count": null,
   "id": "0749b6c7",
   "metadata": {},
   "outputs": [],
   "source": []
  },
  {
   "cell_type": "code",
   "execution_count": 18,
   "id": "904a860c",
   "metadata": {},
   "outputs": [],
   "source": [
    "ok=Data(df,vect,2)\n",
    "#ok"
   ]
  },
  {
   "cell_type": "code",
   "execution_count": 19,
   "id": "adb76e69",
   "metadata": {},
   "outputs": [],
   "source": [
    "ok.to_csv('score_S.csv')"
   ]
  },
  {
   "cell_type": "code",
   "execution_count": 17,
   "id": "4335de6d",
   "metadata": {},
   "outputs": [
    {
     "data": {
      "text/html": [
       "<div>\n",
       "<style scoped>\n",
       "    .dataframe tbody tr th:only-of-type {\n",
       "        vertical-align: middle;\n",
       "    }\n",
       "\n",
       "    .dataframe tbody tr th {\n",
       "        vertical-align: top;\n",
       "    }\n",
       "\n",
       "    .dataframe thead th {\n",
       "        text-align: right;\n",
       "    }\n",
       "</style>\n",
       "<table border=\"1\" class=\"dataframe\">\n",
       "  <thead>\n",
       "    <tr style=\"text-align: right;\">\n",
       "      <th></th>\n",
       "      <th>province</th>\n",
       "      <th>model</th>\n",
       "      <th>Score_train</th>\n",
       "      <th>score_test</th>\n",
       "    </tr>\n",
       "  </thead>\n",
       "  <tbody>\n",
       "    <tr>\n",
       "      <th>0</th>\n",
       "      <td>Bale</td>\n",
       "      <td>RandomForest</td>\n",
       "      <td>0.844166</td>\n",
       "      <td>0.324911</td>\n",
       "    </tr>\n",
       "    <tr>\n",
       "      <th>1</th>\n",
       "      <td>Bale</td>\n",
       "      <td>DecisionTree</td>\n",
       "      <td>1.000000</td>\n",
       "      <td>0.773001</td>\n",
       "    </tr>\n",
       "    <tr>\n",
       "      <th>3</th>\n",
       "      <td>Bale</td>\n",
       "      <td>Lasso</td>\n",
       "      <td>0.994444</td>\n",
       "      <td>0.274217</td>\n",
       "    </tr>\n",
       "    <tr>\n",
       "      <th>0</th>\n",
       "      <td>Sourou</td>\n",
       "      <td>RandomForest</td>\n",
       "      <td>0.786563</td>\n",
       "      <td>0.105645</td>\n",
       "    </tr>\n",
       "    <tr>\n",
       "      <th>1</th>\n",
       "      <td>Koulpelogo</td>\n",
       "      <td>DecisionTree</td>\n",
       "      <td>1.000000</td>\n",
       "      <td>0.321648</td>\n",
       "    </tr>\n",
       "    <tr>\n",
       "      <th>0</th>\n",
       "      <td>Zoundweogo</td>\n",
       "      <td>RandomForest</td>\n",
       "      <td>0.803692</td>\n",
       "      <td>0.321338</td>\n",
       "    </tr>\n",
       "    <tr>\n",
       "      <th>0</th>\n",
       "      <td>Kadiogo</td>\n",
       "      <td>RandomForest</td>\n",
       "      <td>0.853176</td>\n",
       "      <td>0.301373</td>\n",
       "    </tr>\n",
       "    <tr>\n",
       "      <th>0</th>\n",
       "      <td>Gnagna</td>\n",
       "      <td>RandomForest</td>\n",
       "      <td>0.835921</td>\n",
       "      <td>0.441070</td>\n",
       "    </tr>\n",
       "    <tr>\n",
       "      <th>1</th>\n",
       "      <td>Gnagna</td>\n",
       "      <td>DecisionTree</td>\n",
       "      <td>1.000000</td>\n",
       "      <td>0.314359</td>\n",
       "    </tr>\n",
       "    <tr>\n",
       "      <th>3</th>\n",
       "      <td>Gnagna</td>\n",
       "      <td>Lasso</td>\n",
       "      <td>0.998645</td>\n",
       "      <td>0.368559</td>\n",
       "    </tr>\n",
       "    <tr>\n",
       "      <th>1</th>\n",
       "      <td>Gourma</td>\n",
       "      <td>DecisionTree</td>\n",
       "      <td>1.000000</td>\n",
       "      <td>0.121816</td>\n",
       "    </tr>\n",
       "    <tr>\n",
       "      <th>0</th>\n",
       "      <td>Kenedougou</td>\n",
       "      <td>RandomForest</td>\n",
       "      <td>0.865713</td>\n",
       "      <td>0.533946</td>\n",
       "    </tr>\n",
       "    <tr>\n",
       "      <th>2</th>\n",
       "      <td>Kenedougou</td>\n",
       "      <td>RidgeCV</td>\n",
       "      <td>0.819828</td>\n",
       "      <td>0.254736</td>\n",
       "    </tr>\n",
       "    <tr>\n",
       "      <th>0</th>\n",
       "      <td>Zondoma</td>\n",
       "      <td>RandomForest</td>\n",
       "      <td>0.810209</td>\n",
       "      <td>0.331127</td>\n",
       "    </tr>\n",
       "    <tr>\n",
       "      <th>0</th>\n",
       "      <td>Seno</td>\n",
       "      <td>RandomForest</td>\n",
       "      <td>0.860181</td>\n",
       "      <td>0.200495</td>\n",
       "    </tr>\n",
       "    <tr>\n",
       "      <th>1</th>\n",
       "      <td>Seno</td>\n",
       "      <td>DecisionTree</td>\n",
       "      <td>1.000000</td>\n",
       "      <td>0.790663</td>\n",
       "    </tr>\n",
       "    <tr>\n",
       "      <th>2</th>\n",
       "      <td>Seno</td>\n",
       "      <td>RidgeCV</td>\n",
       "      <td>0.888393</td>\n",
       "      <td>0.325639</td>\n",
       "    </tr>\n",
       "    <tr>\n",
       "      <th>3</th>\n",
       "      <td>Seno</td>\n",
       "      <td>Lasso</td>\n",
       "      <td>0.997596</td>\n",
       "      <td>0.475932</td>\n",
       "    </tr>\n",
       "    <tr>\n",
       "      <th>3</th>\n",
       "      <td>Soum</td>\n",
       "      <td>Lasso</td>\n",
       "      <td>0.996579</td>\n",
       "      <td>0.343908</td>\n",
       "    </tr>\n",
       "  </tbody>\n",
       "</table>\n",
       "</div>"
      ],
      "text/plain": [
       "     province         model  Score_train  score_test\n",
       "0        Bale  RandomForest     0.844166    0.324911\n",
       "1        Bale  DecisionTree     1.000000    0.773001\n",
       "3        Bale         Lasso     0.994444    0.274217\n",
       "0      Sourou  RandomForest     0.786563    0.105645\n",
       "1  Koulpelogo  DecisionTree     1.000000    0.321648\n",
       "0  Zoundweogo  RandomForest     0.803692    0.321338\n",
       "0     Kadiogo  RandomForest     0.853176    0.301373\n",
       "0      Gnagna  RandomForest     0.835921    0.441070\n",
       "1      Gnagna  DecisionTree     1.000000    0.314359\n",
       "3      Gnagna         Lasso     0.998645    0.368559\n",
       "1      Gourma  DecisionTree     1.000000    0.121816\n",
       "0  Kenedougou  RandomForest     0.865713    0.533946\n",
       "2  Kenedougou       RidgeCV     0.819828    0.254736\n",
       "0     Zondoma  RandomForest     0.810209    0.331127\n",
       "0        Seno  RandomForest     0.860181    0.200495\n",
       "1        Seno  DecisionTree     1.000000    0.790663\n",
       "2        Seno       RidgeCV     0.888393    0.325639\n",
       "3        Seno         Lasso     0.997596    0.475932\n",
       "3        Soum         Lasso     0.996579    0.343908"
      ]
     },
     "execution_count": 17,
     "metadata": {},
     "output_type": "execute_result"
    }
   ],
   "source": [
    "#mrr=ok.loc[ok['model'].isin(['DecisionTree'])]\n",
    "ok[ok['score_test'] >= 0.1 ]"
   ]
  },
  {
   "cell_type": "code",
   "execution_count": null,
   "id": "5729d27e",
   "metadata": {},
   "outputs": [],
   "source": []
  },
  {
   "cell_type": "code",
   "execution_count": null,
   "id": "8359e2e4",
   "metadata": {},
   "outputs": [],
   "source": []
  }
 ],
 "metadata": {
  "kernelspec": {
   "display_name": "Python 3",
   "language": "python",
   "name": "python3"
  },
  "language_info": {
   "codemirror_mode": {
    "name": "ipython",
    "version": 3
   },
   "file_extension": ".py",
   "mimetype": "text/x-python",
   "name": "python",
   "nbconvert_exporter": "python",
   "pygments_lexer": "ipython3",
   "version": "3.8.8"
  }
 },
 "nbformat": 4,
 "nbformat_minor": 5
}
