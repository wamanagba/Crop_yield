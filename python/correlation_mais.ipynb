{
 "cells": [
  {
   "cell_type": "code",
   "execution_count": 2,
   "id": "a86e8bbb",
   "metadata": {},
   "outputs": [],
   "source": [
    "import pandas as pd\n",
    "from sklearn.preprocessing import OneHotEncoder, LabelEncoder, label_binarize, StandardScaler, MinMaxScaler\n",
    "import matplotlib.pyplot as plt\n"
   ]
  },
  {
   "cell_type": "code",
   "execution_count": 3,
   "id": "67b7cf17",
   "metadata": {},
   "outputs": [
    {
     "data": {
      "text/plain": [
       "45"
      ]
     },
     "execution_count": 3,
     "metadata": {},
     "output_type": "execute_result"
    }
   ],
   "source": [
    "df=data = pd.read_csv('Mais_D1.csv')\n",
    "vect=['Bale','Banwa','Kossi','Mouhoun',\t'Nayala',\t'Sourou',\t'Comoe'\t,\n",
    "      'Leraba',\t'Boulgou',\t'Koulpelogo',\t'Kouritenga',\t'Bam'\t,'Namentenga',\n",
    "      'Sanmatenga',\t'Boulkiemde',\t'Sanguie'\t,'Sissili',\t'Ziro',\t'Bazega',\t'Nahouri',\n",
    "      'Zoundweogo',\t'Kadiogo','Gnagna',\t'Gourma',\t'Komandjoari',\t'Kompienga'\t,'Tapoa',\n",
    "      'Houet'\t,'Kenedougou',\t'Tuy','Loroum',\t'Passore',\t'Yatenga',\t'Zondoma',\t'Ganzourgou',\n",
    "      'Kourweogo',\t'Oubritenga',\n",
    "      'Oudalan','Seno',\t'Soum',\t'Yagha','Bougouriba',\t'Ioba',\t'Noumbiel',\t'Poni']\n",
    "len(vect)"
   ]
  },
  {
   "cell_type": "code",
   "execution_count": 4,
   "id": "4b3d504e",
   "metadata": {},
   "outputs": [],
   "source": [
    "y=df['year']"
   ]
  },
  {
   "cell_type": "code",
   "execution_count": 5,
   "id": "f5ff963a",
   "metadata": {},
   "outputs": [],
   "source": [
    "y=df.loc[df['province'].isin(['Bougouriba'])]['year']"
   ]
  },
  {
   "cell_type": "code",
   "execution_count": 33,
   "id": "3fa7e364",
   "metadata": {},
   "outputs": [],
   "source": [
    "def correlation(df,level):\n",
    "    dt=df.loc[df['province'].isin([level])]\n",
    "    X = dt.iloc[:, 1:40]\n",
    "    #y = dt.iloc[:, 37]\n",
    "    X = pd.DataFrame(StandardScaler().fit_transform(X))\n",
    "    X=X.rename(columns={0:'year', 1:'driver.TSA', 2:'Driver.TNA', 3:'sahel_rainfall', 4:'QBO', 5:'NAO',\n",
    "       6:'gmsst', 7:'EA', 8:'AMM_sst', 9:'Driver.NTA', 10:'AMO_sst', 11:'Driver.AO', 12:'PDO',\n",
    "       13:'PRCPTOT', 14:'R10mm', 15:'R1mm', 16:'R20mm', 17:'R5mm', 18:'R95pTOT', 19:'R99pTOT',\n",
    "       20:'RX1day', 21:'RX5day',22: 'SDII', 23:'CWD', 24:'CDD', 25:'TNn', 26:'TNx', 27:'TXx', 28:'TXn',\n",
    "       29:'Chirts_Tmax_Temp', 30:'Chirts_Tmin_Temp', 31:'ERA5_Pressure', 32:'ERA5_wins',\n",
    "       33:'chirps_Prec', 34:'ERA5_soil_moisture', 35:'NDVI',36:'Mais_area',37:'Nino34',38:'mais'})\n",
    "    #a= pd.DataFrame(pd.DataFrame(dt.corrwith(y, axis = 0)).iloc[:,0])\n",
    "\n",
    "    a=pd.DataFrame(pd.DataFrame(X.corr()).iloc[:,38])\n",
    "    a.columns=[level]\n",
    "    return a"
   ]
  },
  {
   "cell_type": "code",
   "execution_count": 34,
   "id": "042db109",
   "metadata": {},
   "outputs": [],
   "source": [
    "#c=correlation(df,'Banwa')\n",
    "#c"
   ]
  },
  {
   "cell_type": "code",
   "execution_count": 35,
   "id": "fb9dc96c",
   "metadata": {},
   "outputs": [],
   "source": [
    "def sort_corr(df,level):\n",
    "    c=correlation(df,level)\n",
    "    #c= c.sort_values(by=['Bougouriba'])\n",
    "    absolute=c[level].abs()\n",
    "\n",
    "    b=pd.DataFrame(absolute).sort_values(by=[level],ascending=False)\n",
    "    df2 = pd.merge(b, c, left_index=True, right_index=True)\n",
    "    return df2"
   ]
  },
  {
   "cell_type": "code",
   "execution_count": 38,
   "id": "5b280f25",
   "metadata": {},
   "outputs": [],
   "source": [
    "bbb=sort_corr(df,'Banwa')\n",
    "bbb=bbb.iloc[0:11:,]\n",
    "index_list = bbb.index.tolist()"
   ]
  },
  {
   "cell_type": "code",
   "execution_count": 46,
   "id": "d2999839",
   "metadata": {},
   "outputs": [
    {
     "data": {
      "text/html": [
       "<div>\n",
       "<style scoped>\n",
       "    .dataframe tbody tr th:only-of-type {\n",
       "        vertical-align: middle;\n",
       "    }\n",
       "\n",
       "    .dataframe tbody tr th {\n",
       "        vertical-align: top;\n",
       "    }\n",
       "\n",
       "    .dataframe thead th {\n",
       "        text-align: right;\n",
       "    }\n",
       "</style>\n",
       "<table border=\"1\" class=\"dataframe\">\n",
       "  <thead>\n",
       "    <tr style=\"text-align: right;\">\n",
       "      <th></th>\n",
       "      <th>mais</th>\n",
       "      <th>EA</th>\n",
       "      <th>CWD</th>\n",
       "      <th>AMO_sst</th>\n",
       "      <th>Driver.NTA</th>\n",
       "      <th>Driver.TNA</th>\n",
       "      <th>sahel_rainfall</th>\n",
       "      <th>CDD</th>\n",
       "      <th>R1mm</th>\n",
       "      <th>driver.TSA</th>\n",
       "      <th>AMM_sst</th>\n",
       "    </tr>\n",
       "  </thead>\n",
       "  <tbody>\n",
       "    <tr>\n",
       "      <th>0</th>\n",
       "      <td>1645.384171</td>\n",
       "      <td>-0.110000</td>\n",
       "      <td>7</td>\n",
       "      <td>0.031</td>\n",
       "      <td>-0.206667</td>\n",
       "      <td>-0.076667</td>\n",
       "      <td>-1.333333</td>\n",
       "      <td>11</td>\n",
       "      <td>51</td>\n",
       "      <td>0.286667</td>\n",
       "      <td>-1.90</td>\n",
       "    </tr>\n",
       "    <tr>\n",
       "      <th>1</th>\n",
       "      <td>180.000000</td>\n",
       "      <td>-0.110000</td>\n",
       "      <td>6</td>\n",
       "      <td>0.031</td>\n",
       "      <td>-0.206667</td>\n",
       "      <td>-0.076667</td>\n",
       "      <td>-1.333333</td>\n",
       "      <td>8</td>\n",
       "      <td>38</td>\n",
       "      <td>0.286667</td>\n",
       "      <td>-1.90</td>\n",
       "    </tr>\n",
       "    <tr>\n",
       "      <th>2</th>\n",
       "      <td>1408.793452</td>\n",
       "      <td>-0.110000</td>\n",
       "      <td>9</td>\n",
       "      <td>0.031</td>\n",
       "      <td>-0.206667</td>\n",
       "      <td>-0.076667</td>\n",
       "      <td>-1.333333</td>\n",
       "      <td>8</td>\n",
       "      <td>53</td>\n",
       "      <td>0.286667</td>\n",
       "      <td>-1.90</td>\n",
       "    </tr>\n",
       "    <tr>\n",
       "      <th>3</th>\n",
       "      <td>951.000000</td>\n",
       "      <td>-0.110000</td>\n",
       "      <td>4</td>\n",
       "      <td>0.031</td>\n",
       "      <td>-0.206667</td>\n",
       "      <td>-0.076667</td>\n",
       "      <td>-1.333333</td>\n",
       "      <td>8</td>\n",
       "      <td>49</td>\n",
       "      <td>0.286667</td>\n",
       "      <td>-1.90</td>\n",
       "    </tr>\n",
       "    <tr>\n",
       "      <th>4</th>\n",
       "      <td>535.000000</td>\n",
       "      <td>-0.110000</td>\n",
       "      <td>7</td>\n",
       "      <td>0.031</td>\n",
       "      <td>-0.206667</td>\n",
       "      <td>-0.076667</td>\n",
       "      <td>-1.333333</td>\n",
       "      <td>10</td>\n",
       "      <td>50</td>\n",
       "      <td>0.286667</td>\n",
       "      <td>-1.90</td>\n",
       "    </tr>\n",
       "    <tr>\n",
       "      <th>...</th>\n",
       "      <td>...</td>\n",
       "      <td>...</td>\n",
       "      <td>...</td>\n",
       "      <td>...</td>\n",
       "      <td>...</td>\n",
       "      <td>...</td>\n",
       "      <td>...</td>\n",
       "      <td>...</td>\n",
       "      <td>...</td>\n",
       "      <td>...</td>\n",
       "      <td>...</td>\n",
       "    </tr>\n",
       "    <tr>\n",
       "      <th>760</th>\n",
       "      <td>1862.591477</td>\n",
       "      <td>-1.446667</td>\n",
       "      <td>9</td>\n",
       "      <td>0.296</td>\n",
       "      <td>0.296667</td>\n",
       "      <td>0.363333</td>\n",
       "      <td>64.666667</td>\n",
       "      <td>7</td>\n",
       "      <td>63</td>\n",
       "      <td>0.473333</td>\n",
       "      <td>-0.53</td>\n",
       "    </tr>\n",
       "    <tr>\n",
       "      <th>761</th>\n",
       "      <td>2670.053306</td>\n",
       "      <td>-1.446667</td>\n",
       "      <td>10</td>\n",
       "      <td>0.296</td>\n",
       "      <td>0.296667</td>\n",
       "      <td>0.363333</td>\n",
       "      <td>64.666667</td>\n",
       "      <td>9</td>\n",
       "      <td>58</td>\n",
       "      <td>0.473333</td>\n",
       "      <td>-0.53</td>\n",
       "    </tr>\n",
       "    <tr>\n",
       "      <th>762</th>\n",
       "      <td>1386.397024</td>\n",
       "      <td>-1.446667</td>\n",
       "      <td>9</td>\n",
       "      <td>0.296</td>\n",
       "      <td>0.296667</td>\n",
       "      <td>0.363333</td>\n",
       "      <td>64.666667</td>\n",
       "      <td>12</td>\n",
       "      <td>55</td>\n",
       "      <td>0.473333</td>\n",
       "      <td>-0.53</td>\n",
       "    </tr>\n",
       "    <tr>\n",
       "      <th>763</th>\n",
       "      <td>834.129011</td>\n",
       "      <td>-1.446667</td>\n",
       "      <td>7</td>\n",
       "      <td>0.296</td>\n",
       "      <td>0.296667</td>\n",
       "      <td>0.363333</td>\n",
       "      <td>64.666667</td>\n",
       "      <td>9</td>\n",
       "      <td>48</td>\n",
       "      <td>0.473333</td>\n",
       "      <td>-0.53</td>\n",
       "    </tr>\n",
       "    <tr>\n",
       "      <th>764</th>\n",
       "      <td>775.933451</td>\n",
       "      <td>-1.446667</td>\n",
       "      <td>7</td>\n",
       "      <td>0.296</td>\n",
       "      <td>0.296667</td>\n",
       "      <td>0.363333</td>\n",
       "      <td>64.666667</td>\n",
       "      <td>10</td>\n",
       "      <td>50</td>\n",
       "      <td>0.473333</td>\n",
       "      <td>-0.53</td>\n",
       "    </tr>\n",
       "  </tbody>\n",
       "</table>\n",
       "<p>765 rows × 11 columns</p>\n",
       "</div>"
      ],
      "text/plain": [
       "            mais        EA  CWD  AMO_sst  Driver.NTA  Driver.TNA  \\\n",
       "0    1645.384171 -0.110000    7    0.031   -0.206667   -0.076667   \n",
       "1     180.000000 -0.110000    6    0.031   -0.206667   -0.076667   \n",
       "2    1408.793452 -0.110000    9    0.031   -0.206667   -0.076667   \n",
       "3     951.000000 -0.110000    4    0.031   -0.206667   -0.076667   \n",
       "4     535.000000 -0.110000    7    0.031   -0.206667   -0.076667   \n",
       "..           ...       ...  ...      ...         ...         ...   \n",
       "760  1862.591477 -1.446667    9    0.296    0.296667    0.363333   \n",
       "761  2670.053306 -1.446667   10    0.296    0.296667    0.363333   \n",
       "762  1386.397024 -1.446667    9    0.296    0.296667    0.363333   \n",
       "763   834.129011 -1.446667    7    0.296    0.296667    0.363333   \n",
       "764   775.933451 -1.446667    7    0.296    0.296667    0.363333   \n",
       "\n",
       "     sahel_rainfall  CDD  R1mm  driver.TSA  AMM_sst  \n",
       "0         -1.333333   11    51    0.286667    -1.90  \n",
       "1         -1.333333    8    38    0.286667    -1.90  \n",
       "2         -1.333333    8    53    0.286667    -1.90  \n",
       "3         -1.333333    8    49    0.286667    -1.90  \n",
       "4         -1.333333   10    50    0.286667    -1.90  \n",
       "..              ...  ...   ...         ...      ...  \n",
       "760       64.666667    7    63    0.473333    -0.53  \n",
       "761       64.666667    9    58    0.473333    -0.53  \n",
       "762       64.666667   12    55    0.473333    -0.53  \n",
       "763       64.666667    9    48    0.473333    -0.53  \n",
       "764       64.666667   10    50    0.473333    -0.53  \n",
       "\n",
       "[765 rows x 11 columns]"
      ]
     },
     "execution_count": 46,
     "metadata": {},
     "output_type": "execute_result"
    }
   ],
   "source": [
    "index_list\n",
    "a=df[index_list]\n",
    "a.iloc[:,0:13]"
   ]
  },
  {
   "cell_type": "code",
   "execution_count": null,
   "id": "5c99c932",
   "metadata": {},
   "outputs": [],
   "source": []
  },
  {
   "cell_type": "code",
   "execution_count": 37,
   "id": "937340ae",
   "metadata": {},
   "outputs": [],
   "source": [
    "def table(df,v):\n",
    "    D=pd.DataFrame()\n",
    "    for i in range(0,len(v)):\n",
    "        D=pd.concat([D,correlation(df,v[i])],axis = 1)\n",
    "    return D"
   ]
  },
  {
   "cell_type": "code",
   "execution_count": 47,
   "id": "badd6c2f",
   "metadata": {},
   "outputs": [],
   "source": [
    "table(df,vect).to_csv('correlation.csv')"
   ]
  },
  {
   "cell_type": "code",
   "execution_count": 48,
   "id": "072363d3",
   "metadata": {},
   "outputs": [],
   "source": [
    "#table(df,vect).iloc[:,1:20]\n"
   ]
  },
  {
   "cell_type": "code",
   "execution_count": 49,
   "id": "90effbb7",
   "metadata": {},
   "outputs": [],
   "source": [
    "aa=table(df, vect)"
   ]
  },
  {
   "cell_type": "code",
   "execution_count": 51,
   "id": "0d47ad4b",
   "metadata": {},
   "outputs": [
    {
     "data": {
      "text/plain": [
       "<AxesSubplot:>"
      ]
     },
     "execution_count": 51,
     "metadata": {},
     "output_type": "execute_result"
    },
    {
     "data": {
      "image/png": "[encoded data removed]",
      "text/plain": [
       "<Figure size 432x288 with 1 Axes>"
      ]
     },
     "metadata": {
      "needs_background": "light"
     },
     "output_type": "display_data"
    }
   ],
   "source": [
    "aa['Banwa'].plot()"
   ]
  },
  {
   "cell_type": "code",
   "execution_count": 88,
   "id": "61a2177f",
   "metadata": {},
   "outputs": [],
   "source": [
    "def figures(df,level):\n",
    "    dt=df.loc[df['province'].isin([level])]\n",
    "    X = dt.iloc[:, 1:40]\n",
    "    #y = dt.iloc[:, 37]\n",
    "    X = pd.DataFrame(StandardScaler().fit_transform(X))\n",
    "    X=X.rename(columns={0:'year', 1:'driver.TSA', 2:'Driver.TNA', 3:'sahel_rainfall', 4:'QBO', 5:'NAO',\n",
    "       6:'gmsst', 7:'EA', 8:'AMM_sst', 9:'Driver.NTA', 10:'AMO_sst', 11:'Driver.AO', 12:'PDO',\n",
    "       13:'PRCPTOT', 14:'R10mm', 15:'R1mm', 16:'R20mm', 17:'R5mm', 18:'R95pTOT', 19:'R99pTOT',\n",
    "       20:'RX1day', 21:'RX5day',22: 'SDII', 23:'CWD', 24:'CDD', 25:'TNn', 26:'TNx', 27:'TXx', 28:'TXn',\n",
    "       29:'Chirts_Tmax_Temp', 30:'Chirts_Tmin_Temp', 31:'ERA5_Pressure', 32:'ERA5_wins',\n",
    "       33:'chirps_Prec', 34:'ERA5_soil_moisture', 35:'NDVI',36:'Mais_area',37:'Nino34',38:'Mais'})\n",
    "    #a= pd.DataFrame(pd.DataFrame(dt.corrwith(y, axis = 0)).iloc[:,0])\n",
    "    PRCPTOT=X['PRCPTOT']\n",
    "    mais=X['Mais']\n",
    "    plt.plot(y, PRCPTOT, color='r', label='PRCPTOT')\n",
    "    plt.plot(y, mais, color='g', label='mais')\n",
    "    plt.title(level)\n",
    "    plt.legend()\n",
    "    plt.savefig(level)"
   ]
  },
  {
   "cell_type": "code",
   "execution_count": 89,
   "id": "ebcfa865",
   "metadata": {},
   "outputs": [
    {
     "data": {
      "image/png": "[encoded data removed]",
      "text/plain": [
       "<Figure size 432x288 with 1 Axes>"
      ]
     },
     "metadata": {
      "needs_background": "light"
     },
     "output_type": "display_data"
    }
   ],
   "source": [
    "figures(df,'Comoe')"
   ]
  },
  {
   "cell_type": "code",
   "execution_count": 90,
   "id": "61545fcd",
   "metadata": {},
   "outputs": [
    {
     "data": {
      "image/png": "[encoded data removed]",
      "text/plain": [
       "<Figure size 432x288 with 1 Axes>"
      ]
     },
     "metadata": {
      "needs_background": "light"
     },
     "output_type": "display_data"
    }
   ],
   "source": [
    "figures(df,'Leraba')"
   ]
  },
  {
   "cell_type": "code",
   "execution_count": 91,
   "id": "d776ed63",
   "metadata": {},
   "outputs": [
    {
     "data": {
      "image/png": "[encoded data removed]",
      "text/plain": [
       "<Figure size 432x288 with 1 Axes>"
      ]
     },
     "metadata": {
      "needs_background": "light"
     },
     "output_type": "display_data"
    }
   ],
   "source": [
    "figures(df,'Boulgou')"
   ]
  },
  {
   "cell_type": "code",
   "execution_count": 92,
   "id": "49784c53",
   "metadata": {},
   "outputs": [
    {
     "data": {
      "image/png": "[encoded data removed]",
      "text/plain": [
       "<Figure size 432x288 with 1 Axes>"
      ]
     },
     "metadata": {
      "needs_background": "light"
     },
     "output_type": "display_data"
    }
   ],
   "source": [
    "figures(df,'Koulpelogo')"
   ]
  },
  {
   "cell_type": "code",
   "execution_count": 93,
   "id": "6288e4b9",
   "metadata": {},
   "outputs": [
    {
     "data": {
      "image/png": "[encoded data removed]",
      "text/plain": [
       "<Figure size 432x288 with 1 Axes>"
      ]
     },
     "metadata": {
      "needs_background": "light"
     },
     "output_type": "display_data"
    }
   ],
   "source": [
    "figures(df,'Ziro')"
   ]
  },
  {
   "cell_type": "code",
   "execution_count": 94,
   "id": "2b261b70",
   "metadata": {},
   "outputs": [
    {
     "data": {
      "image/png": "[encoded data removed]",
      "text/plain": [
       "<Figure size 432x288 with 1 Axes>"
      ]
     },
     "metadata": {
      "needs_background": "light"
     },
     "output_type": "display_data"
    }
   ],
   "source": [
    "figures(df,'Zoundweogo')"
   ]
  },
  {
   "cell_type": "code",
   "execution_count": 99,
   "id": "61e9ae0e",
   "metadata": {},
   "outputs": [
    {
     "data": {
      "text/html": [
       "<div>\n",
       "<style scoped>\n",
       "    .dataframe tbody tr th:only-of-type {\n",
       "        vertical-align: middle;\n",
       "    }\n",
       "\n",
       "    .dataframe tbody tr th {\n",
       "        vertical-align: top;\n",
       "    }\n",
       "\n",
       "    .dataframe thead th {\n",
       "        text-align: right;\n",
       "    }\n",
       "</style>\n",
       "<table border=\"1\" class=\"dataframe\">\n",
       "  <thead>\n",
       "    <tr style=\"text-align: right;\">\n",
       "      <th></th>\n",
       "      <th>Sissili</th>\n",
       "    </tr>\n",
       "  </thead>\n",
       "  <tbody>\n",
       "    <tr>\n",
       "      <th>year</th>\n",
       "      <td>0.277167</td>\n",
       "    </tr>\n",
       "    <tr>\n",
       "      <th>driver.TSA</th>\n",
       "      <td>-0.234917</td>\n",
       "    </tr>\n",
       "    <tr>\n",
       "      <th>Driver.TNA</th>\n",
       "      <td>0.374834</td>\n",
       "    </tr>\n",
       "    <tr>\n",
       "      <th>sahel_rainfall</th>\n",
       "      <td>0.440296</td>\n",
       "    </tr>\n",
       "    <tr>\n",
       "      <th>QBO</th>\n",
       "      <td>-0.370935</td>\n",
       "    </tr>\n",
       "    <tr>\n",
       "      <th>NAO</th>\n",
       "      <td>-0.297762</td>\n",
       "    </tr>\n",
       "    <tr>\n",
       "      <th>gmsst</th>\n",
       "      <td>0.304412</td>\n",
       "    </tr>\n",
       "    <tr>\n",
       "      <th>EA</th>\n",
       "      <td>-0.582084</td>\n",
       "    </tr>\n",
       "    <tr>\n",
       "      <th>AMM_sst</th>\n",
       "      <td>0.380830</td>\n",
       "    </tr>\n",
       "    <tr>\n",
       "      <th>Driver.NTA</th>\n",
       "      <td>0.418869</td>\n",
       "    </tr>\n",
       "    <tr>\n",
       "      <th>AMO_sst</th>\n",
       "      <td>0.329522</td>\n",
       "    </tr>\n",
       "    <tr>\n",
       "      <th>Driver.AO</th>\n",
       "      <td>-0.287181</td>\n",
       "    </tr>\n",
       "    <tr>\n",
       "      <th>PDO</th>\n",
       "      <td>0.132951</td>\n",
       "    </tr>\n",
       "    <tr>\n",
       "      <th>PRCPTOT</th>\n",
       "      <td>0.470003</td>\n",
       "    </tr>\n",
       "    <tr>\n",
       "      <th>R10mm</th>\n",
       "      <td>0.568680</td>\n",
       "    </tr>\n",
       "    <tr>\n",
       "      <th>R1mm</th>\n",
       "      <td>0.135516</td>\n",
       "    </tr>\n",
       "    <tr>\n",
       "      <th>R20mm</th>\n",
       "      <td>0.247805</td>\n",
       "    </tr>\n",
       "    <tr>\n",
       "      <th>R5mm</th>\n",
       "      <td>0.185548</td>\n",
       "    </tr>\n",
       "    <tr>\n",
       "      <th>R95pTOT</th>\n",
       "      <td>0.669732</td>\n",
       "    </tr>\n",
       "    <tr>\n",
       "      <th>R99pTOT</th>\n",
       "      <td>0.125169</td>\n",
       "    </tr>\n",
       "    <tr>\n",
       "      <th>RX1day</th>\n",
       "      <td>0.262480</td>\n",
       "    </tr>\n",
       "    <tr>\n",
       "      <th>RX5day</th>\n",
       "      <td>0.150911</td>\n",
       "    </tr>\n",
       "    <tr>\n",
       "      <th>SDII</th>\n",
       "      <td>0.419936</td>\n",
       "    </tr>\n",
       "    <tr>\n",
       "      <th>CWD</th>\n",
       "      <td>0.040972</td>\n",
       "    </tr>\n",
       "    <tr>\n",
       "      <th>CDD</th>\n",
       "      <td>-0.197064</td>\n",
       "    </tr>\n",
       "    <tr>\n",
       "      <th>TNn</th>\n",
       "      <td>0.105113</td>\n",
       "    </tr>\n",
       "    <tr>\n",
       "      <th>TNx</th>\n",
       "      <td>-0.364380</td>\n",
       "    </tr>\n",
       "    <tr>\n",
       "      <th>TXx</th>\n",
       "      <td>0.039026</td>\n",
       "    </tr>\n",
       "    <tr>\n",
       "      <th>TXn</th>\n",
       "      <td>-0.403119</td>\n",
       "    </tr>\n",
       "    <tr>\n",
       "      <th>Chirts_Tmax_Temp</th>\n",
       "      <td>-0.320154</td>\n",
       "    </tr>\n",
       "    <tr>\n",
       "      <th>Chirts_Tmin_Temp</th>\n",
       "      <td>-0.136789</td>\n",
       "    </tr>\n",
       "    <tr>\n",
       "      <th>ERA5_Pressure</th>\n",
       "      <td>0.351781</td>\n",
       "    </tr>\n",
       "    <tr>\n",
       "      <th>ERA5_wins</th>\n",
       "      <td>0.342143</td>\n",
       "    </tr>\n",
       "    <tr>\n",
       "      <th>chirps_Prec</th>\n",
       "      <td>0.469213</td>\n",
       "    </tr>\n",
       "    <tr>\n",
       "      <th>ERA5_soil_moisture</th>\n",
       "      <td>0.182323</td>\n",
       "    </tr>\n",
       "    <tr>\n",
       "      <th>NDVI</th>\n",
       "      <td>0.044247</td>\n",
       "    </tr>\n",
       "    <tr>\n",
       "      <th>Sorgh0</th>\n",
       "      <td>1.000000</td>\n",
       "    </tr>\n",
       "  </tbody>\n",
       "</table>\n",
       "</div>"
      ],
      "text/plain": [
       "                     Sissili\n",
       "year                0.277167\n",
       "driver.TSA         -0.234917\n",
       "Driver.TNA          0.374834\n",
       "sahel_rainfall      0.440296\n",
       "QBO                -0.370935\n",
       "NAO                -0.297762\n",
       "gmsst               0.304412\n",
       "EA                 -0.582084\n",
       "AMM_sst             0.380830\n",
       "Driver.NTA          0.418869\n",
       "AMO_sst             0.329522\n",
       "Driver.AO          -0.287181\n",
       "PDO                 0.132951\n",
       "PRCPTOT             0.470003\n",
       "R10mm               0.568680\n",
       "R1mm                0.135516\n",
       "R20mm               0.247805\n",
       "R5mm                0.185548\n",
       "R95pTOT             0.669732\n",
       "R99pTOT             0.125169\n",
       "RX1day              0.262480\n",
       "RX5day              0.150911\n",
       "SDII                0.419936\n",
       "CWD                 0.040972\n",
       "CDD                -0.197064\n",
       "TNn                 0.105113\n",
       "TNx                -0.364380\n",
       "TXx                 0.039026\n",
       "TXn                -0.403119\n",
       "Chirts_Tmax_Temp   -0.320154\n",
       "Chirts_Tmin_Temp   -0.136789\n",
       "ERA5_Pressure       0.351781\n",
       "ERA5_wins           0.342143\n",
       "chirps_Prec         0.469213\n",
       "ERA5_soil_moisture  0.182323\n",
       "NDVI                0.044247\n",
       "Sorgh0              1.000000"
      ]
     },
     "execution_count": 99,
     "metadata": {},
     "output_type": "execute_result"
    }
   ],
   "source": [
    "    dt=df.loc[df['province'].isin(['Kadiogo'])]\n",
    "    X = dt.iloc[:, 1:38]\n",
    "    X = pd.DataFrame(StandardScaler().fit_transform(X))\n",
    "    y = dt.iloc[:, 36]\n",
    "    X=X.rename(columns={0:'year', 1:'driver.TSA', 2:'Driver.TNA', 3:'sahel_rainfall', 4:'QBO', 5:'NAO',\n",
    "       6:'gmsst', 7:'EA', 8:'AMM_sst', 9:'Driver.NTA', 10:'AMO_sst', 11:'Driver.AO', 12:'PDO',\n",
    "       13:'PRCPTOT', 14:'R10mm', 15:'R1mm', 16:'R20mm', 17:'R5mm', 18:'R95pTOT', 19:'R99pTOT',\n",
    "       20:'RX1day', 21:'RX5day',22: 'SDII', 23:'CWD', 24:'CDD', 25:'TNn', 26:'TNx', 27:'TXx', 28:'TXn',\n",
    "       29:'Chirts_Tmax_Temp', 30:'Chirts_Tmin_Temp', 31:'ERA5_Pressure', 32:'ERA5_wins',\n",
    "       33:'chirps_Prec', 34:'ERA5_soil_moisture', 35:'NDVI',36:'Sorgh0'})\n",
    "    X=pd.DataFrame(X)\n",
    "    a=pd.DataFrame(pd.DataFrame(X.corr()).iloc[:,36])\n",
    "    a.columns=['Sissili']\n",
    "    a "
   ]
  },
  {
   "cell_type": "code",
   "execution_count": 65,
   "id": "727bd6dc",
   "metadata": {},
   "outputs": [
    {
     "data": {
      "text/plain": [
       "pandas.core.frame.DataFrame"
      ]
     },
     "execution_count": 65,
     "metadata": {},
     "output_type": "execute_result"
    }
   ],
   "source": [
    "type(X)"
   ]
  },
  {
   "cell_type": "code",
   "execution_count": null,
   "id": "f061103c",
   "metadata": {},
   "outputs": [],
   "source": []
  },
  {
   "cell_type": "code",
   "execution_count": null,
   "id": "c8a1a815",
   "metadata": {},
   "outputs": [],
   "source": []
  },
  {
   "cell_type": "code",
   "execution_count": 83,
   "id": "87970090",
   "metadata": {
    "collapsed": true
   },
   "outputs": [
    {
     "data": {
      "text/plain": [
       "year                  0.126296\n",
       "driver.TSA            0.160893\n",
       "Driver.TNA           -0.147845\n",
       "sahel_rainfall       -0.277732\n",
       "QBO                   0.314169\n",
       "NAO                   0.072941\n",
       "gmsst                -0.121874\n",
       "EA                   -0.129789\n",
       "AMM_sst              -0.207266\n",
       "Driver.NTA           -0.153189\n",
       "AMO_sst               0.020600\n",
       "Driver.AO             0.244880\n",
       "PDO                  -0.075652\n",
       "PRCPTOT               0.026850\n",
       "R10mm                -0.129425\n",
       "R1mm                 -0.003476\n",
       "R20mm                -0.071259\n",
       "R5mm                  0.358099\n",
       "R95pTOT              -0.218236\n",
       "R99pTOT               0.208239\n",
       "RX1day                0.062826\n",
       "RX5day                0.032505\n",
       "SDII                  0.041037\n",
       "CWD                  -0.155332\n",
       "CDD                  -0.352084\n",
       "TNn                   0.069980\n",
       "TNx                  -0.083549\n",
       "TXx                  -0.095326\n",
       "TXn                  -0.000582\n",
       "Chirts_Tmax_Temp      0.178621\n",
       "Chirts_Tmin_Temp      0.099838\n",
       "ERA5_Pressure        -0.168275\n",
       "ERA5_wins             0.051990\n",
       "chirps_Prec          -0.202112\n",
       "ERA5_soil_moisture   -0.131625\n",
       "NDVI                  0.059079\n",
       "sorgho                1.000000\n",
       "dtype: float64"
      ]
     },
     "execution_count": 83,
     "metadata": {},
     "output_type": "execute_result"
    }
   ],
   "source": [
    "X = dt.iloc[:, 1:38]\n",
    "y = X.iloc[:, 36]\n",
    "X.corrwith(y, axis = 0)"
   ]
  },
  {
   "cell_type": "code",
   "execution_count": null,
   "id": "2ca47945",
   "metadata": {},
   "outputs": [],
   "source": []
  },
  {
   "cell_type": "code",
   "execution_count": 21,
   "id": "35ee5a18",
   "metadata": {},
   "outputs": [],
   "source": [
    "b=pd.DataFrame()"
   ]
  },
  {
   "cell_type": "code",
   "execution_count": 19,
   "id": "4e3f6c81",
   "metadata": {},
   "outputs": [
    {
     "data": {
      "text/html": [
       "<div>\n",
       "<style scoped>\n",
       "    .dataframe tbody tr th:only-of-type {\n",
       "        vertical-align: middle;\n",
       "    }\n",
       "\n",
       "    .dataframe tbody tr th {\n",
       "        vertical-align: top;\n",
       "    }\n",
       "\n",
       "    .dataframe thead th {\n",
       "        text-align: right;\n",
       "    }\n",
       "</style>\n",
       "<table border=\"1\" class=\"dataframe\">\n",
       "  <thead>\n",
       "    <tr style=\"text-align: right;\">\n",
       "      <th></th>\n",
       "      <th>Nayala</th>\n",
       "    </tr>\n",
       "  </thead>\n",
       "  <tbody>\n",
       "    <tr>\n",
       "      <th>year</th>\n",
       "      <td>0.018158</td>\n",
       "    </tr>\n",
       "    <tr>\n",
       "      <th>driver.TSA</th>\n",
       "      <td>0.125947</td>\n",
       "    </tr>\n",
       "    <tr>\n",
       "      <th>Driver.TNA</th>\n",
       "      <td>-0.012952</td>\n",
       "    </tr>\n",
       "    <tr>\n",
       "      <th>sahel_rainfall</th>\n",
       "      <td>0.176630</td>\n",
       "    </tr>\n",
       "    <tr>\n",
       "      <th>QBO</th>\n",
       "      <td>-0.361031</td>\n",
       "    </tr>\n",
       "    <tr>\n",
       "      <th>NAO</th>\n",
       "      <td>-0.068691</td>\n",
       "    </tr>\n",
       "    <tr>\n",
       "      <th>gmsst</th>\n",
       "      <td>0.172129</td>\n",
       "    </tr>\n",
       "    <tr>\n",
       "      <th>EA</th>\n",
       "      <td>0.050390</td>\n",
       "    </tr>\n",
       "    <tr>\n",
       "      <th>AMM_sst</th>\n",
       "      <td>0.028437</td>\n",
       "    </tr>\n",
       "    <tr>\n",
       "      <th>Driver.NTA</th>\n",
       "      <td>-0.007770</td>\n",
       "    </tr>\n",
       "    <tr>\n",
       "      <th>AMO_sst</th>\n",
       "      <td>-0.139565</td>\n",
       "    </tr>\n",
       "    <tr>\n",
       "      <th>Driver.AO</th>\n",
       "      <td>-0.000295</td>\n",
       "    </tr>\n",
       "    <tr>\n",
       "      <th>PDO</th>\n",
       "      <td>-0.272469</td>\n",
       "    </tr>\n",
       "    <tr>\n",
       "      <th>PRCPTOT</th>\n",
       "      <td>0.369328</td>\n",
       "    </tr>\n",
       "    <tr>\n",
       "      <th>R10mm</th>\n",
       "      <td>0.367185</td>\n",
       "    </tr>\n",
       "    <tr>\n",
       "      <th>R1mm</th>\n",
       "      <td>0.192304</td>\n",
       "    </tr>\n",
       "    <tr>\n",
       "      <th>R20mm</th>\n",
       "      <td>0.620565</td>\n",
       "    </tr>\n",
       "    <tr>\n",
       "      <th>R5mm</th>\n",
       "      <td>-0.211874</td>\n",
       "    </tr>\n",
       "    <tr>\n",
       "      <th>R95pTOT</th>\n",
       "      <td>0.332188</td>\n",
       "    </tr>\n",
       "    <tr>\n",
       "      <th>R99pTOT</th>\n",
       "      <td>0.336509</td>\n",
       "    </tr>\n",
       "    <tr>\n",
       "      <th>RX1day</th>\n",
       "      <td>0.235218</td>\n",
       "    </tr>\n",
       "    <tr>\n",
       "      <th>RX5day</th>\n",
       "      <td>0.250496</td>\n",
       "    </tr>\n",
       "    <tr>\n",
       "      <th>SDII</th>\n",
       "      <td>0.415076</td>\n",
       "    </tr>\n",
       "    <tr>\n",
       "      <th>CWD</th>\n",
       "      <td>0.033959</td>\n",
       "    </tr>\n",
       "    <tr>\n",
       "      <th>CDD</th>\n",
       "      <td>-0.203435</td>\n",
       "    </tr>\n",
       "    <tr>\n",
       "      <th>TNn</th>\n",
       "      <td>0.038129</td>\n",
       "    </tr>\n",
       "    <tr>\n",
       "      <th>TNx</th>\n",
       "      <td>-0.415740</td>\n",
       "    </tr>\n",
       "    <tr>\n",
       "      <th>TXx</th>\n",
       "      <td>-0.134350</td>\n",
       "    </tr>\n",
       "    <tr>\n",
       "      <th>TXn</th>\n",
       "      <td>-0.304910</td>\n",
       "    </tr>\n",
       "    <tr>\n",
       "      <th>Chirts_Tmax_Temp</th>\n",
       "      <td>-0.504999</td>\n",
       "    </tr>\n",
       "    <tr>\n",
       "      <th>Chirts_Tmin_Temp</th>\n",
       "      <td>-0.289520</td>\n",
       "    </tr>\n",
       "    <tr>\n",
       "      <th>ERA5_Pressure</th>\n",
       "      <td>0.089583</td>\n",
       "    </tr>\n",
       "    <tr>\n",
       "      <th>ERA5_wins</th>\n",
       "      <td>-0.355811</td>\n",
       "    </tr>\n",
       "    <tr>\n",
       "      <th>chirps_Prec</th>\n",
       "      <td>0.495837</td>\n",
       "    </tr>\n",
       "    <tr>\n",
       "      <th>ERA5_soil_moisture</th>\n",
       "      <td>0.176743</td>\n",
       "    </tr>\n",
       "    <tr>\n",
       "      <th>NDVI</th>\n",
       "      <td>0.005393</td>\n",
       "    </tr>\n",
       "    <tr>\n",
       "      <th>sorgho</th>\n",
       "      <td>1.000000</td>\n",
       "    </tr>\n",
       "  </tbody>\n",
       "</table>\n",
       "</div>"
      ],
      "text/plain": [
       "                      Nayala\n",
       "year                0.018158\n",
       "driver.TSA          0.125947\n",
       "Driver.TNA         -0.012952\n",
       "sahel_rainfall      0.176630\n",
       "QBO                -0.361031\n",
       "NAO                -0.068691\n",
       "gmsst               0.172129\n",
       "EA                  0.050390\n",
       "AMM_sst             0.028437\n",
       "Driver.NTA         -0.007770\n",
       "AMO_sst            -0.139565\n",
       "Driver.AO          -0.000295\n",
       "PDO                -0.272469\n",
       "PRCPTOT             0.369328\n",
       "R10mm               0.367185\n",
       "R1mm                0.192304\n",
       "R20mm               0.620565\n",
       "R5mm               -0.211874\n",
       "R95pTOT             0.332188\n",
       "R99pTOT             0.336509\n",
       "RX1day              0.235218\n",
       "RX5day              0.250496\n",
       "SDII                0.415076\n",
       "CWD                 0.033959\n",
       "CDD                -0.203435\n",
       "TNn                 0.038129\n",
       "TNx                -0.415740\n",
       "TXx                -0.134350\n",
       "TXn                -0.304910\n",
       "Chirts_Tmax_Temp   -0.504999\n",
       "Chirts_Tmin_Temp   -0.289520\n",
       "ERA5_Pressure       0.089583\n",
       "ERA5_wins          -0.355811\n",
       "chirps_Prec         0.495837\n",
       "ERA5_soil_moisture  0.176743\n",
       "NDVI                0.005393\n",
       "sorgho              1.000000"
      ]
     },
     "execution_count": 19,
     "metadata": {},
     "output_type": "execute_result"
    }
   ],
   "source": [
    "dt=df.loc[df['province'].isin(['Nayala'])]\n",
    "y = dt.iloc[:, 37]\n",
    "a= pd.DataFrame(pd.DataFrame(dt.corrwith(y, axis = 0)).iloc[:,0])\n",
    "a.columns=['Nayala']\n"
   ]
  },
  {
   "cell_type": "code",
   "execution_count": null,
   "id": "7ee19336",
   "metadata": {},
   "outputs": [],
   "source": []
  },
  {
   "cell_type": "code",
   "execution_count": null,
   "id": "61a61847",
   "metadata": {},
   "outputs": [],
   "source": []
  }
 ],
 "metadata": {
  "kernelspec": {
   "display_name": "Python 3",
   "language": "python",
   "name": "python3"
  },
  "language_info": {
   "codemirror_mode": {
    "name": "ipython",
    "version": 3
   },
   "file_extension": ".py",
   "mimetype": "text/x-python",
   "name": "python",
   "nbconvert_exporter": "python",
   "pygments_lexer": "ipython3",
   "version": "3.8.8"
  }
 },
 "nbformat": 4,
 "nbformat_minor": 5
}
