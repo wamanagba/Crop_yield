{
 "cells": [
  {
   "cell_type": "code",
   "execution_count": 1,
   "id": "5a960a21",
   "metadata": {},
   "outputs": [],
   "source": [
    "import pandas as pd\n",
    "import numpy as np\n",
    "from sklearn.preprocessing import OneHotEncoder, LabelEncoder, label_binarize, StandardScaler, MinMaxScaler\n",
    "from sklearn.model_selection import train_test_split\n",
    "from sklearn.ensemble import RandomForestRegressor\n",
    "from sklearn.tree import DecisionTreeRegressor\n",
    "from sklearn.linear_model import RidgeCV,LassoCV,Lasso\n",
    "from sklearn.decomposition import PCA\n",
    "import matplotlib.pyplot as plt\n",
    "from sklearn.tree import DecisionTreeRegressor\n",
    "from sklearn.preprocessing import OneHotEncoder, LabelEncoder, label_binarize, StandardScaler, MinMaxScaler\n",
    "from sklearn.model_selection import train_test_split"
   ]
  },
  {
   "cell_type": "code",
   "execution_count": 2,
   "id": "f3c7905f",
   "metadata": {},
   "outputs": [],
   "source": [
    "data=df=pd.read_csv(\"C:\\\\Users\\\\Yacou\\\\Desktop\\\\Yacouba_New\\\\climte\\\\Data\\\\Rendements\\\\okay\\\\mil_mais.csv\")"
   ]
  },
  {
   "cell_type": "code",
   "execution_count": 3,
   "id": "fd10745e",
   "metadata": {},
   "outputs": [],
   "source": [
    "vect=['Bale','Banwa','Kossi','Mouhoun',\t'Nayala',\t'Sourou',\t'Comoe'\t,\n",
    "      'Leraba',\t'Boulgou',\t'Koulpelogo',\t'Kouritenga',\t'Bam'\t,'Namentenga',\n",
    "      'Sanmatenga',\t'Boulkiemde',\t'Sanguie'\t,'Sissili',\t'Ziro',\t'Bazega',\t'Nahouri',\n",
    "      'Zoundweogo',\t'Kadiogo','Gnagna',\t'Gourma',\t'Komandjoari',\t'Kompienga'\t,'Tapoa',\n",
    "      'Houet'\t,'Kenedougou',\t'Tuy','Loroum',\t'Passore',\t'Yatenga',\t'Zondoma',\t'Ganzourgou',\n",
    "      'Kourweogo',\t'Oubritenga',\n",
    "      'Oudalan','Seno',\t'Soum',\t'Yagha','Bougouriba',\t'Ioba',\t'Noumbiel',\t'Poni']"
   ]
  },
  {
   "cell_type": "code",
   "execution_count": 4,
   "id": "960388b0",
   "metadata": {},
   "outputs": [
    {
     "data": {
      "text/plain": [
       "Index(['provinces', 'year', 'Tmin_ERA5', 'ERA5_Pressure', 'ERA5_Tmax',\n",
       "       'ERA5_soil_moisture', 'ERA5_wins', 'ARC2_year', 'Best_Temp_Max',\n",
       "       'Best_Temp', 'NDVI', 'Tamsat_Prec', 'chirps_Prec', 'CDD', 'CWD',\n",
       "       'PRCPTOT', 'R10mm', 'R1mm', 'R20mm', 'R5mm', 'R95pTOT', 'R99pTOT',\n",
       "       'RX1day', 'RX5day', 'SDII', 'TNn', 'TXn', 'TNx', 'TXx', 'Nino', 'AMM',\n",
       "       'AMO', 'AO', 'EA', 'NAO', 'NTA', 'PDO', 'gmsst', 'qbo', 'sahel_rainfal',\n",
       "       'tna', 'tsa', 'mais', 'mil'],\n",
       "      dtype='object')"
      ]
     },
     "execution_count": 4,
     "metadata": {},
     "output_type": "execute_result"
    }
   ],
   "source": [
    "col=data.columns\n",
    "col"
   ]
  },
  {
   "cell_type": "code",
   "execution_count": 5,
   "id": "5c511c0a",
   "metadata": {},
   "outputs": [],
   "source": [
    "c0=['provinces']\n",
    "c1=['year', 'Tmin_ERA5', 'ERA5_Pressure',\n",
    "        'ERA5_wins', 'ARC2_year', 'Best_Temp_Max',\n",
    "       'Best_Temp',  'Tamsat_Prec', 'chirps_Prec', 'CDD', 'CWD',\n",
    "       'PRCPTOT', 'R10mm', 'R1mm', 'R20mm', 'R5mm', 'R95pTOT', 'R99pTOT',\n",
    "       'RX1day', 'RX5day', 'SDII', 'TNn', 'TXn', 'TNx', 'TXx', 'Nino','sahel_rainfal','qbo' ]\n",
    "c2=['NDVI','ERA5_soil_moisture','AMM',\n",
    "       'AMO', 'AO', 'EA', 'NAO', 'NTA', 'PDO', 'gmsst',\n",
    "       'tna', 'tsa']\n",
    "d2=data[c2]\n",
    "d3=data[ 'mil']\n",
    "d4=data['mais']"
   ]
  },
  {
   "cell_type": "code",
   "execution_count": null,
   "id": "92003293",
   "metadata": {},
   "outputs": [],
   "source": []
  },
  {
   "cell_type": "code",
   "execution_count": null,
   "id": "4b2ab0b3",
   "metadata": {},
   "outputs": [],
   "source": []
  },
  {
   "cell_type": "code",
   "execution_count": null,
   "id": "a5a9298d",
   "metadata": {},
   "outputs": [],
   "source": []
  },
  {
   "cell_type": "code",
   "execution_count": 40,
   "id": "a5639c5c",
   "metadata": {},
   "outputs": [],
   "source": [
    "def model(df,n,predicteur,crop):\n",
    "    X = df[predicteur]\n",
    "    y = df[crop]\n",
    "    X = pd.DataFrame(StandardScaler().fit_transform(X))\n",
    "    y=pd.array(y)\n",
    "    y=pd.DataFrame(y)\n",
    "    X_train, X_test, y_train, y_test = train_test_split(X, y,test_size=0.17,random_state=n)\n",
    "\n",
    "\n",
    "    model1 = RidgeCV()\n",
    "    model2 = Lasso(normalize=True, tol=1e-3)\n",
    "    model3 = RandomForestRegressor(n_estimators = 2000,max_depth=23)\n",
    "    model4 = DecisionTreeRegressor(max_depth=80) \n",
    "\n",
    "    model1.fit(X_train, y_train.values.ravel())\n",
    "    model2.fit(X_train, y_train.values.ravel())\n",
    "    model3.fit(X_train, y_train.values.ravel())\n",
    "    model4.fit(X_train, y_train.values.ravel())\n",
    "\n",
    "    train_RidgeCV=model1.score(X_train, y_train)\n",
    "    test_RidgeCV=model1.score(X_test, y_test)\n",
    "\n",
    "    train_LassoCV=model2.score(X_train, y_train)\n",
    "    test_LassoCV=model2.score(X_test, y_test)\n",
    "\n",
    "    train_RandomForest=model3.score(X_train, y_train)\n",
    "    test_RandomForest=model3.score(X_test, y_test)\n",
    "\n",
    "    train_DecisionTree=model4.score(X_train, y_train)\n",
    "    test_DecisionTree=model4.score(X_test, y_test)\n",
    "\n",
    "\n",
    "    data = {'model': ['RandomForest', 'DecisionTree', 'RidgeCV', 'Lasso'],\n",
    "        'Score_train': [train_RandomForest, train_DecisionTree, train_RidgeCV, train_LassoCV],\n",
    "        'score_test': [test_RandomForest, test_DecisionTree, test_RidgeCV, test_LassoCV]\n",
    "        }\n",
    "\n",
    "   # data = {'model': ['RandomForest', 'DecisionTree'],\n",
    "     #   'Score_train': [train_RandomForest, train_DecisionTree],\n",
    "     #   'score_test': [test_RandomForest, test_DecisionTree]\n",
    "     #   }\n",
    "\n",
    "    d = pd.DataFrame(data)\n",
    "    return d\n"
   ]
  },
  {
   "cell_type": "code",
   "execution_count": 41,
   "id": "df8f64ac",
   "metadata": {},
   "outputs": [
    {
     "data": {
      "text/html": [
       "<div>\n",
       "<style scoped>\n",
       "    .dataframe tbody tr th:only-of-type {\n",
       "        vertical-align: middle;\n",
       "    }\n",
       "\n",
       "    .dataframe tbody tr th {\n",
       "        vertical-align: top;\n",
       "    }\n",
       "\n",
       "    .dataframe thead th {\n",
       "        text-align: right;\n",
       "    }\n",
       "</style>\n",
       "<table border=\"1\" class=\"dataframe\">\n",
       "  <thead>\n",
       "    <tr style=\"text-align: right;\">\n",
       "      <th></th>\n",
       "      <th>model</th>\n",
       "      <th>Score_train</th>\n",
       "      <th>score_test</th>\n",
       "    </tr>\n",
       "  </thead>\n",
       "  <tbody>\n",
       "    <tr>\n",
       "      <th>0</th>\n",
       "      <td>RandomForest</td>\n",
       "      <td>0.899770</td>\n",
       "      <td>0.630935</td>\n",
       "    </tr>\n",
       "    <tr>\n",
       "      <th>1</th>\n",
       "      <td>DecisionTree</td>\n",
       "      <td>1.000000</td>\n",
       "      <td>0.583646</td>\n",
       "    </tr>\n",
       "    <tr>\n",
       "      <th>2</th>\n",
       "      <td>RidgeCV</td>\n",
       "      <td>0.853370</td>\n",
       "      <td>0.882296</td>\n",
       "    </tr>\n",
       "    <tr>\n",
       "      <th>3</th>\n",
       "      <td>Lasso</td>\n",
       "      <td>0.998865</td>\n",
       "      <td>0.839745</td>\n",
       "    </tr>\n",
       "  </tbody>\n",
       "</table>\n",
       "</div>"
      ],
      "text/plain": [
       "          model  Score_train  score_test\n",
       "0  RandomForest     0.899770    0.630935\n",
       "1  DecisionTree     1.000000    0.583646\n",
       "2       RidgeCV     0.853370    0.882296\n",
       "3         Lasso     0.998865    0.839745"
      ]
     },
     "execution_count": 41,
     "metadata": {},
     "output_type": "execute_result"
    }
   ],
   "source": [
    "d=dt.loc[dt['provinces'].isin(['Kadiogo'])]\n",
    "model(d,2,c1,'mais')"
   ]
  },
  {
   "cell_type": "code",
   "execution_count": 42,
   "id": "f68f2208",
   "metadata": {},
   "outputs": [],
   "source": [
    "def model_province(dt,prov,n,predicteur,crop):\n",
    "    m=prov\n",
    "    m=np.repeat(m,4, axis=0)\n",
    "    m={'provinces':m}\n",
    "    m=pd.DataFrame(m)\n",
    "    d=dt.loc[dt['provinces'].isin([prov])] #(X, y,test_size=0.17,random_state=3)\n",
    "    m=pd.concat([m,model(d,n,predicteur,crop)],axis = 1)\n",
    "    return m"
   ]
  },
  {
   "cell_type": "code",
   "execution_count": 52,
   "id": "32709c6e",
   "metadata": {},
   "outputs": [
    {
     "data": {
      "text/html": [
       "<div>\n",
       "<style scoped>\n",
       "    .dataframe tbody tr th:only-of-type {\n",
       "        vertical-align: middle;\n",
       "    }\n",
       "\n",
       "    .dataframe tbody tr th {\n",
       "        vertical-align: top;\n",
       "    }\n",
       "\n",
       "    .dataframe thead th {\n",
       "        text-align: right;\n",
       "    }\n",
       "</style>\n",
       "<table border=\"1\" class=\"dataframe\">\n",
       "  <thead>\n",
       "    <tr style=\"text-align: right;\">\n",
       "      <th></th>\n",
       "      <th>provinces</th>\n",
       "      <th>model</th>\n",
       "      <th>Score_train</th>\n",
       "      <th>score_test</th>\n",
       "    </tr>\n",
       "  </thead>\n",
       "  <tbody>\n",
       "    <tr>\n",
       "      <th>0</th>\n",
       "      <td>Kadiogo</td>\n",
       "      <td>RandomForest</td>\n",
       "      <td>0.785296</td>\n",
       "      <td>0.664008</td>\n",
       "    </tr>\n",
       "    <tr>\n",
       "      <th>1</th>\n",
       "      <td>Kadiogo</td>\n",
       "      <td>DecisionTree</td>\n",
       "      <td>1.000000</td>\n",
       "      <td>-0.098462</td>\n",
       "    </tr>\n",
       "    <tr>\n",
       "      <th>2</th>\n",
       "      <td>Kadiogo</td>\n",
       "      <td>RidgeCV</td>\n",
       "      <td>0.497870</td>\n",
       "      <td>0.847359</td>\n",
       "    </tr>\n",
       "    <tr>\n",
       "      <th>3</th>\n",
       "      <td>Kadiogo</td>\n",
       "      <td>Lasso</td>\n",
       "      <td>0.862752</td>\n",
       "      <td>-7.355478</td>\n",
       "    </tr>\n",
       "  </tbody>\n",
       "</table>\n",
       "</div>"
      ],
      "text/plain": [
       "  provinces         model  Score_train  score_test\n",
       "0   Kadiogo  RandomForest     0.785296    0.664008\n",
       "1   Kadiogo  DecisionTree     1.000000   -0.098462\n",
       "2   Kadiogo       RidgeCV     0.497870    0.847359\n",
       "3   Kadiogo         Lasso     0.862752   -7.355478"
      ]
     },
     "execution_count": 52,
     "metadata": {},
     "output_type": "execute_result"
    }
   ],
   "source": [
    "model_province(df,'Kadiogo',4,c2,'mais')"
   ]
  },
  {
   "cell_type": "code",
   "execution_count": 53,
   "id": "7e4622b8",
   "metadata": {},
   "outputs": [],
   "source": [
    "def Data(data,v,n,predicteur,crop):\n",
    "    D=pd.DataFrame()\n",
    "    for i in range(0,len(v)):\n",
    "        P=v[i]\n",
    "        D=pd.concat([D,model_province(data,P,n,predicteur,crop)],axis = 0)\n",
    "    return D"
   ]
  },
  {
   "cell_type": "code",
   "execution_count": 54,
   "id": "904a860c",
   "metadata": {},
   "outputs": [],
   "source": [
    "ok=Data(df,vect,5,c1,'mais')\n",
    "#ok"
   ]
  },
  {
   "cell_type": "code",
   "execution_count": 45,
   "id": "adb76e69",
   "metadata": {},
   "outputs": [],
   "source": [
    "ok.to_csv('Mais_01.csv')"
   ]
  },
  {
   "cell_type": "code",
   "execution_count": 57,
   "id": "4335de6d",
   "metadata": {},
   "outputs": [
    {
     "data": {
      "text/plain": [
       "49"
      ]
     },
     "execution_count": 57,
     "metadata": {},
     "output_type": "execute_result"
    }
   ],
   "source": [
    "#mrr=ok.loc[ok['model'].isin(['DecisionTree'])]\n",
    "len(pd.DataFrame(ok[ok['score_test'] >= 0.1 ]))"
   ]
  },
  {
   "cell_type": "code",
   "execution_count": 60,
   "id": "5729d27e",
   "metadata": {},
   "outputs": [
    {
     "name": "stdout",
     "output_type": "stream",
     "text": [
      "27\n"
     ]
    },
    {
     "name": "stderr",
     "output_type": "stream",
     "text": [
      "C:\\ProgramData\\Anaconda3\\lib\\site-packages\\sklearn\\linear_model\\_coordinate_descent.py:530: ConvergenceWarning: Objective did not converge. You might want to increase the number of iterations. Duality gap: 2301.5783266235103, tolerance: 899.1437003407451\n",
      "  model = cd_fast.enet_coordinate_descent(\n"
     ]
    },
    {
     "name": "stdout",
     "output_type": "stream",
     "text": [
      "39\n"
     ]
    },
    {
     "name": "stderr",
     "output_type": "stream",
     "text": [
      "C:\\ProgramData\\Anaconda3\\lib\\site-packages\\sklearn\\linear_model\\_coordinate_descent.py:530: ConvergenceWarning: Objective did not converge. You might want to increase the number of iterations. Duality gap: 4098.4623103056365, tolerance: 1654.3805507164857\n",
      "  model = cd_fast.enet_coordinate_descent(\n",
      "C:\\ProgramData\\Anaconda3\\lib\\site-packages\\sklearn\\linear_model\\_coordinate_descent.py:530: ConvergenceWarning: Objective did not converge. You might want to increase the number of iterations. Duality gap: 689.3990939141386, tolerance: 555.9109225502533\n",
      "  model = cd_fast.enet_coordinate_descent(\n"
     ]
    },
    {
     "name": "stdout",
     "output_type": "stream",
     "text": [
      "39\n",
      "49\n"
     ]
    },
    {
     "name": "stderr",
     "output_type": "stream",
     "text": [
      "C:\\ProgramData\\Anaconda3\\lib\\site-packages\\sklearn\\linear_model\\_coordinate_descent.py:530: ConvergenceWarning: Objective did not converge. You might want to increase the number of iterations. Duality gap: 4766.654732723353, tolerance: 4419.046010330533\n",
      "  model = cd_fast.enet_coordinate_descent(\n"
     ]
    },
    {
     "name": "stdout",
     "output_type": "stream",
     "text": [
      "18\n"
     ]
    }
   ],
   "source": [
    "for i in range(1,6):\n",
    "    ok=Data(df,vect,i,c1,'mais')\n",
    "    print(len(pd.DataFrame(ok[ok['score_test'] >= 0.1 ])))"
   ]
  },
  {
   "cell_type": "code",
   "execution_count": null,
   "id": "8359e2e4",
   "metadata": {},
   "outputs": [],
   "source": []
  }
 ],
 "metadata": {
  "kernelspec": {
   "display_name": "Python 3",
   "language": "python",
   "name": "python3"
  },
  "language_info": {
   "codemirror_mode": {
    "name": "ipython",
    "version": 3
   },
   "file_extension": ".py",
   "mimetype": "text/x-python",
   "name": "python",
   "nbconvert_exporter": "python",
   "pygments_lexer": "ipython3",
   "version": "3.8.8"
  }
 },
 "nbformat": 4,
 "nbformat_minor": 5
}
