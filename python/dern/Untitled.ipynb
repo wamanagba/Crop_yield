{
 "cells": [
  {
   "cell_type": "code",
   "execution_count": 55,
   "id": "a35531f9",
   "metadata": {},
   "outputs": [],
   "source": [
    "import pandas as pd\n",
    "from sklearn.preprocessing import OneHotEncoder, LabelEncoder, label_binarize, StandardScaler, MinMaxScaler"
   ]
  },
  {
   "cell_type": "code",
   "execution_count": 56,
   "id": "f0e97875",
   "metadata": {},
   "outputs": [],
   "source": [
    "data=df=pd.read_csv(\"C:\\\\Users\\\\Yacou\\\\Desktop\\\\Yacouba_New\\\\climte\\\\Data\\\\Rendements\\\\okay\\\\mil_mais.csv\")"
   ]
  },
  {
   "cell_type": "code",
   "execution_count": 57,
   "id": "5ec06427",
   "metadata": {},
   "outputs": [
    {
     "data": {
      "text/plain": [
       "Index(['provinces', 'year', 'Tmin_ERA5', 'ERA5_Pressure', 'ERA5_Tmax',\n",
       "       'ERA5_soil_moisture', 'ERA5_wins', 'ARC2_year', 'Best_Temp_Max',\n",
       "       'Best_Temp', 'NDVI', 'Tamsat_Prec', 'chirps_Prec', 'CDD', 'CWD',\n",
       "       'PRCPTOT', 'R10mm', 'R1mm', 'R20mm', 'R5mm', 'R95pTOT', 'R99pTOT',\n",
       "       'RX1day', 'RX5day', 'SDII', 'TNn', 'TXn', 'TNx', 'TXx', 'Nino', 'AMM',\n",
       "       'AMO', 'AO', 'EA', 'NAO', 'NTA', 'PDO', 'gmsst', 'qbo', 'sahel_rainfal',\n",
       "       'tna', 'tsa', 'mais', 'mil'],\n",
       "      dtype='object')"
      ]
     },
     "execution_count": 57,
     "metadata": {},
     "output_type": "execute_result"
    }
   ],
   "source": [
    "col=data.columns\n",
    "col"
   ]
  },
  {
   "cell_type": "code",
   "execution_count": 58,
   "id": "8fba7150",
   "metadata": {},
   "outputs": [],
   "source": [
    "c0=['provinces']\n",
    "c1=['year', 'Tmin_ERA5', 'ERA5_Pressure',\n",
    "        'ERA5_wins', 'ARC2_year', 'Best_Temp_Max',\n",
    "       'Best_Temp',  'Tamsat_Prec', 'chirps_Prec', 'CDD', 'CWD',\n",
    "       'PRCPTOT', 'R10mm', 'R1mm', 'R20mm', 'R5mm', 'R95pTOT', 'R99pTOT',\n",
    "       'RX1day', 'RX5day', 'SDII', 'TNn', 'TXn', 'TNx', 'TXx', 'Nino','sahel_rainfal' ]\n",
    "c2=['NDVI','ERA5_soil_moisture','AMM',\n",
    "       'AMO', 'AO', 'EA', 'NAO', 'NTA', 'PDO', 'gmsst', 'qbo',\n",
    "       'tna', 'tsa']\n",
    "d2=data[c2]\n"
   ]
  },
  {
   "cell_type": "code",
   "execution_count": 59,
   "id": "74ccba8d",
   "metadata": {},
   "outputs": [],
   "source": [
    "d1=data[c1]\n",
    "X = pd.DataFrame(StandardScaler().fit_transform(d1))\n",
    "d1=X.rename(columns={0:'year', 1:'Tmin_ERA5', 2:'ERA5_Pressure',\n",
    "        3:'ERA5_wins', 4:'ARC2_year', 5:'Best_Temp_Max',\n",
    "       6:'Best_Temp', 7:'Tamsat_Prec', 8:'chirps_Prec', 9:'CDD', 10:'CWD',\n",
    "       11:'PRCPTOT', 12:'R10mm', 13:'R1mm', 14:'R20mm', 15:'R5mm', 16:'R95pTOT', 17:'R99pTOT',\n",
    "       18:'RX1day', 19:'RX5day', 20:'SDII', 21:'TNn', 22:'TXn', 23:'TNx', 24:'TXx', 25:'Nino',26:'sahel_rainfal'})"
   ]
  },
  {
   "cell_type": "code",
   "execution_count": 60,
   "id": "6aabc56a",
   "metadata": {},
   "outputs": [],
   "source": [
    "dt=pd.concat([data[c0],d1,d2],axis=1)\n",
    "import numpy as np\n",
    "from sklearn.preprocessing import OneHotEncoder, LabelEncoder, label_binarize, StandardScaler, MinMaxScaler\n",
    "from sklearn.linear_model import RidgeCV,Lasso\n",
    "from sklearn.ensemble import RandomForestRegressor\n",
    "from sklearn.tree import DecisionTreeRegressor\n",
    "from sklearn.model_selection import train_test_split\n"
   ]
  },
  {
   "cell_type": "code",
   "execution_count": 61,
   "id": "ca42c7b7",
   "metadata": {},
   "outputs": [],
   "source": [
    "var = pd.get_dummies(df[c0],drop_first=True)"
   ]
  },
  {
   "cell_type": "code",
   "execution_count": 62,
   "id": "bf65653d",
   "metadata": {},
   "outputs": [],
   "source": [
    "dt0=pd.concat([var,d1,d2],axis=1)\n",
    "y=data['mil']"
   ]
  },
  {
   "cell_type": "code",
   "execution_count": 63,
   "id": "1a4b9ead",
   "metadata": {},
   "outputs": [],
   "source": [
    "X_train, X_test, y_train, y_test = train_test_split(dt0, y,test_size=0.2,random_state=3) \n",
    "\n",
    "model1 = RidgeCV()\n",
    "model2 = Lasso(normalize=True, tol=1e-3)\n",
    "model3 = RandomForestRegressor(n_estimators = 2000,max_depth=82)\n",
    "model4 = DecisionTreeRegressor(max_depth=80) \n",
    "\n",
    "model1.fit(X_train, y_train)\n",
    "model2.fit(X_train, y_train)\n",
    "model3.fit(X_train, y_train)\n",
    "model4.fit(X_train, y_train)\n",
    "\n",
    "train_RidgeCV=model1.score(X_train, y_train)\n",
    "test_RidgeCV=model1.score(X_test, y_test)\n",
    "\n",
    "train_LassoCV=model2.score(X_train, y_train)\n",
    "test_LassoCV=model2.score(X_test, y_test)\n",
    "\n",
    "train_RandomForest=model3.score(X_train, y_train)\n",
    "test_RandomForest=model3.score(X_test, y_test)\n",
    "\n",
    "train_DecisionTree=model4.score(X_train, y_train)\n",
    "test_DecisionTree=model4.score(X_test, y_test)\n",
    "\n",
    "\n",
    "data = {'model': ['RandomForest', 'DecisionTree', 'RidgeCV', 'Lasso'],\n",
    "        'Score_train': [train_RandomForest, train_DecisionTree, train_RidgeCV, train_LassoCV],\n",
    "        'score_test': [test_RandomForest, test_DecisionTree, test_RidgeCV, test_LassoCV]\n",
    "        }\n",
    "\n",
    "   # data = {'model': ['RandomForest', 'DecisionTree'],\n",
    "     #   'Score_train': [train_RandomForest, train_DecisionTree],\n",
    "     #   'score_test': [test_RandomForest, test_DecisionTree]\n",
    "     #   }\n",
    "\n",
    "d = pd.DataFrame(data)"
   ]
  },
  {
   "cell_type": "code",
   "execution_count": 64,
   "id": "9fa774a7",
   "metadata": {},
   "outputs": [
    {
     "data": {
      "text/html": [
       "<div>\n",
       "<style scoped>\n",
       "    .dataframe tbody tr th:only-of-type {\n",
       "        vertical-align: middle;\n",
       "    }\n",
       "\n",
       "    .dataframe tbody tr th {\n",
       "        vertical-align: top;\n",
       "    }\n",
       "\n",
       "    .dataframe thead th {\n",
       "        text-align: right;\n",
       "    }\n",
       "</style>\n",
       "<table border=\"1\" class=\"dataframe\">\n",
       "  <thead>\n",
       "    <tr style=\"text-align: right;\">\n",
       "      <th></th>\n",
       "      <th>model</th>\n",
       "      <th>Score_train</th>\n",
       "      <th>score_test</th>\n",
       "    </tr>\n",
       "  </thead>\n",
       "  <tbody>\n",
       "    <tr>\n",
       "      <th>0</th>\n",
       "      <td>RandomForest</td>\n",
       "      <td>0.894684</td>\n",
       "      <td>0.241226</td>\n",
       "    </tr>\n",
       "    <tr>\n",
       "      <th>1</th>\n",
       "      <td>DecisionTree</td>\n",
       "      <td>1.000000</td>\n",
       "      <td>-0.567573</td>\n",
       "    </tr>\n",
       "    <tr>\n",
       "      <th>2</th>\n",
       "      <td>RidgeCV</td>\n",
       "      <td>0.380477</td>\n",
       "      <td>0.332926</td>\n",
       "    </tr>\n",
       "    <tr>\n",
       "      <th>3</th>\n",
       "      <td>Lasso</td>\n",
       "      <td>0.171489</td>\n",
       "      <td>0.134521</td>\n",
       "    </tr>\n",
       "  </tbody>\n",
       "</table>\n",
       "</div>"
      ],
      "text/plain": [
       "          model  Score_train  score_test\n",
       "0  RandomForest     0.894684    0.241226\n",
       "1  DecisionTree     1.000000   -0.567573\n",
       "2       RidgeCV     0.380477    0.332926\n",
       "3         Lasso     0.171489    0.134521"
      ]
     },
     "execution_count": 64,
     "metadata": {},
     "output_type": "execute_result"
    }
   ],
   "source": [
    "d"
   ]
  },
  {
   "cell_type": "code",
   "execution_count": null,
   "id": "b85f52ba",
   "metadata": {},
   "outputs": [],
   "source": []
  }
 ],
 "metadata": {
  "kernelspec": {
   "display_name": "Python 3",
   "language": "python",
   "name": "python3"
  },
  "language_info": {
   "codemirror_mode": {
    "name": "ipython",
    "version": 3
   },
   "file_extension": ".py",
   "mimetype": "text/x-python",
   "name": "python",
   "nbconvert_exporter": "python",
   "pygments_lexer": "ipython3",
   "version": "3.8.8"
  }
 },
 "nbformat": 4,
 "nbformat_minor": 5
}
