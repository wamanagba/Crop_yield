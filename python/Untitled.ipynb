{
 "cells": [
  {
   "cell_type": "code",
   "execution_count": 1,
   "id": "5a960a21",
   "metadata": {},
   "outputs": [],
   "source": [
    "import pandas as pd\n",
    "import numpy as np\n",
    "from sklearn.preprocessing import OneHotEncoder, LabelEncoder, label_binarize, StandardScaler, MinMaxScaler\n",
    "from sklearn.model_selection import train_test_split\n",
    "from sklearn.ensemble import RandomForestRegressor\n",
    "from sklearn.tree import DecisionTreeRegressor\n",
    "from sklearn.linear_model import RidgeCV,LassoCV,Lasso\n",
    "from sklearn.decomposition import PCA\n",
    "import matplotlib.pyplot as plt\n",
    "from sklearn.tree import DecisionTreeRegressor"
   ]
  },
  {
   "cell_type": "code",
   "execution_count": 2,
   "id": "f3c7905f",
   "metadata": {},
   "outputs": [],
   "source": [
    "df=data = pd.read_csv('data_mais.csv')"
   ]
  },
  {
   "cell_type": "code",
   "execution_count": 3,
   "id": "fd10745e",
   "metadata": {},
   "outputs": [],
   "source": [
    "vect=['Bale','Banwa','Kossi','Mouhoun',\t'Nayala',\t'Sourou',\t'Comoe'\t,\n",
    "      'Leraba',\t'Boulgou',\t'Koulpelogo',\t'Kouritenga',\t'Bam'\t,'Namentenga',\n",
    "      'Sanmatenga',\t'Boulkiemde',\t'Sanguie'\t,'Sissili',\t'Ziro',\t'Bazega',\t'Nahouri',\n",
    "      'Zoundweogo',\t'Kadiogo','Gnagna',\t'Gourma',\t'Komandjoari',\t'Kompienga'\t,'Tapoa',\n",
    "      'Houet'\t,'Kenedougou',\t'Tuy','Loroum',\t'Passore',\t'Yatenga',\t'Zondoma',\t'Ganzourgou',\n",
    "      'Kourweogo',\t'Oubritenga',\n",
    "      'Oudalan','Seno',\t'Soum',\t'Yagha','Bougouriba',\t'Ioba',\t'Noumbiel',\t'Poni']"
   ]
  },
  {
   "cell_type": "code",
   "execution_count": 4,
   "id": "4b2ab0b3",
   "metadata": {},
   "outputs": [],
   "source": [
    "dt=df.loc[df['province'].isin(['Ganzourgou'])]"
   ]
  },
  {
   "cell_type": "code",
   "execution_count": 5,
   "id": "b7f6f200",
   "metadata": {},
   "outputs": [],
   "source": [
    "X = dt.iloc[:, 1:15]\n",
    "y = dt.iloc[:, 38]\n",
    "X = pd.DataFrame(StandardScaler().fit_transform(X))\n",
    "y=pd.array(y)\n",
    "y=pd.DataFrame(y)\n"
   ]
  },
  {
   "cell_type": "code",
   "execution_count": 6,
   "id": "0346a9cb",
   "metadata": {},
   "outputs": [],
   "source": [
    "X=X.rename(columns={0:'year', 1:'driver.TSA', 2:'Driver.TNA', 3:'sahel_rainfall', 4:'QBO', 5:'NAO',\n",
    "       6:'gmsst', 7:'EA', 8:'AMM_sst', 9:'Driver.NTA', 10:'AMO_sst', 11:'Driver.AO', 12:'PDO',\n",
    "       13:'PRCPTOT', 14:'R10mm', 15:'R1mm', 16:'R20mm', 17:'R5mm', 18:'R95pTOT', 19:'R99pTOT',\n",
    "       20:'RX1day', 21:'RX5day',22: 'SDII', 23:'CWD', 24:'CDD', 25:'TNn', 26:'TNx', 27:'TXx', 28:'TXn',\n",
    "       29:'Chirts_Tmax_Temp', 30:'Chirts_Tmin_Temp', 31:'ERA5_Pressure', 32:'ERA5_wins',\n",
    "       33:'chirps_Prec', 34:'ERA5_soil_moisture', 35:'NDVI', 36:'Mais_area'})\n"
   ]
  },
  {
   "cell_type": "code",
   "execution_count": 7,
   "id": "723a94d7",
   "metadata": {},
   "outputs": [],
   "source": [
    "X_train, X_test, y_train, y_test = train_test_split(X, y,test_size=0.2,random_state=3)\n"
   ]
  },
  {
   "cell_type": "code",
   "execution_count": 8,
   "id": "6e440a6e",
   "metadata": {},
   "outputs": [
    {
     "data": {
      "text/plain": [
       "Lasso(normalize=True, tol=0.001)"
      ]
     },
     "execution_count": 8,
     "metadata": {},
     "output_type": "execute_result"
    }
   ],
   "source": [
    "model3 = RandomForestRegressor(n_estimators = 1500,max_depth=23)\n",
    "model4 = DecisionTreeRegressor(max_depth=80) \n",
    "model1 = RidgeCV()\n",
    "model2= Lasso(normalize=True, tol=1e-3)\n",
    "model1.fit(X_train, y_train.values.ravel())\n",
    "model3.fit(X_train, y_train.values.ravel())\n",
    "model4.fit(X_train, y_train.values.ravel())\n",
    "model2.fit(X_train, y_train.values.ravel())"
   ]
  },
  {
   "cell_type": "code",
   "execution_count": 9,
   "id": "1df396b3",
   "metadata": {},
   "outputs": [
    {
     "name": "stdout",
     "output_type": "stream",
     "text": [
      "model score on RidgeCV: 0.1988947946941778\n",
      "model score on RandomForestRegressor: -0.06825745716574882\n",
      "model score on DecisionTreeRegressor: -1.1006481911268633\n",
      "model score on Lasso: -1.1354094333234768\n"
     ]
    }
   ],
   "source": [
    "print(f'model score on RidgeCV: {model1.score(X_test, y_test)}')\n",
    "print(f'model score on RandomForestRegressor: {model3.score(X_test, y_test)}')\n",
    "print(f'model score on DecisionTreeRegressor: {model4.score(X_test, y_test)}')\n",
    "print(f'model score on Lasso: {model2.score(X_test, y_test)}')\n"
   ]
  },
  {
   "cell_type": "code",
   "execution_count": null,
   "id": "eda88bcd",
   "metadata": {},
   "outputs": [],
   "source": []
  },
  {
   "cell_type": "code",
   "execution_count": 18,
   "id": "a5639c5c",
   "metadata": {},
   "outputs": [],
   "source": [
    "def model(df,n):\n",
    "    from sklearn.preprocessing import OneHotEncoder, LabelEncoder, label_binarize, StandardScaler, MinMaxScaler\n",
    "    from sklearn.model_selection import train_test_split\n",
    "\n",
    "    #df.reset_index(inplace = True)\n",
    "    #df.pop('index')\n",
    "\n",
    "    X = df.iloc[:, 1:15]\n",
    "    y = df.iloc[:, 38]\n",
    "    X = pd.DataFrame(StandardScaler().fit_transform(X))\n",
    "    y=pd.array(y)\n",
    "    y=pd.DataFrame(y)\n",
    "    X_train, X_test, y_train, y_test = train_test_split(X, y,test_size=0.17,random_state=n)\n",
    "\n",
    "\n",
    "    model1 = RidgeCV()\n",
    "    model2 = Lasso(normalize=True, tol=1e-3)\n",
    "    model3 = RandomForestRegressor(n_estimators = 1500,max_depth=23)\n",
    "    model4 = DecisionTreeRegressor(max_depth=80) \n",
    "\n",
    "    model1.fit(X_train, y_train.values.ravel())\n",
    "    model2.fit(X_train, y_train.values.ravel())\n",
    "    model3.fit(X_train, y_train.values.ravel())\n",
    "    model4.fit(X_train, y_train.values.ravel())\n",
    "\n",
    "    train_RidgeCV=model1.score(X_train, y_train)\n",
    "    test_RidgeCV=model1.score(X_test, y_test)\n",
    "\n",
    "    train_LassoCV=model2.score(X_train, y_train)\n",
    "    test_LassoCV=model2.score(X_test, y_test)\n",
    "\n",
    "    train_RandomForest=model3.score(X_train, y_train)\n",
    "    test_RandomForest=model3.score(X_test, y_test)\n",
    "\n",
    "    train_DecisionTree=model4.score(X_train, y_train)\n",
    "    test_DecisionTree=model4.score(X_test, y_test)\n",
    "\n",
    "\n",
    "    data = {'model': ['RandomForest', 'DecisionTree', 'RidgeCV', 'Lasso'],\n",
    "        'Score_train': [train_RandomForest, train_DecisionTree, train_RidgeCV, train_LassoCV],\n",
    "        'score_test': [test_RandomForest, test_DecisionTree, test_RidgeCV, test_LassoCV]\n",
    "        }\n",
    "\n",
    "   # data = {'model': ['RandomForest', 'DecisionTree'],\n",
    "     #   'Score_train': [train_RandomForest, train_DecisionTree],\n",
    "     #   'score_test': [test_RandomForest, test_DecisionTree]\n",
    "     #   }\n",
    "\n",
    "    d = pd.DataFrame(data)\n",
    "    return d\n"
   ]
  },
  {
   "cell_type": "code",
   "execution_count": 19,
   "id": "f68f2208",
   "metadata": {},
   "outputs": [],
   "source": [
    "def model_province(dt,prov,n):\n",
    "    m=prov\n",
    "    m=np.repeat(m,4, axis=0)\n",
    "    m={'province':m}\n",
    "    m=pd.DataFrame(m)\n",
    "    d=dt.loc[dt['province'].isin([prov])] #(X, y,test_size=0.17,random_state=3)\n",
    "    m=pd.concat([m,model(d,n)],axis = 1)\n",
    "    return m"
   ]
  },
  {
   "cell_type": "code",
   "execution_count": 20,
   "id": "32709c6e",
   "metadata": {},
   "outputs": [
    {
     "data": {
      "text/html": [
       "<div>\n",
       "<style scoped>\n",
       "    .dataframe tbody tr th:only-of-type {\n",
       "        vertical-align: middle;\n",
       "    }\n",
       "\n",
       "    .dataframe tbody tr th {\n",
       "        vertical-align: top;\n",
       "    }\n",
       "\n",
       "    .dataframe thead th {\n",
       "        text-align: right;\n",
       "    }\n",
       "</style>\n",
       "<table border=\"1\" class=\"dataframe\">\n",
       "  <thead>\n",
       "    <tr style=\"text-align: right;\">\n",
       "      <th></th>\n",
       "      <th>province</th>\n",
       "      <th>model</th>\n",
       "      <th>Score_train</th>\n",
       "      <th>score_test</th>\n",
       "    </tr>\n",
       "  </thead>\n",
       "  <tbody>\n",
       "    <tr>\n",
       "      <th>0</th>\n",
       "      <td>Ganzourgou</td>\n",
       "      <td>RandomForest</td>\n",
       "      <td>0.87243</td>\n",
       "      <td>0.954676</td>\n",
       "    </tr>\n",
       "    <tr>\n",
       "      <th>1</th>\n",
       "      <td>Ganzourgou</td>\n",
       "      <td>DecisionTree</td>\n",
       "      <td>1.00000</td>\n",
       "      <td>-0.597096</td>\n",
       "    </tr>\n",
       "    <tr>\n",
       "      <th>2</th>\n",
       "      <td>Ganzourgou</td>\n",
       "      <td>RidgeCV</td>\n",
       "      <td>0.68166</td>\n",
       "      <td>0.757489</td>\n",
       "    </tr>\n",
       "    <tr>\n",
       "      <th>3</th>\n",
       "      <td>Ganzourgou</td>\n",
       "      <td>Lasso</td>\n",
       "      <td>0.98008</td>\n",
       "      <td>-1.590889</td>\n",
       "    </tr>\n",
       "  </tbody>\n",
       "</table>\n",
       "</div>"
      ],
      "text/plain": [
       "     province         model  Score_train  score_test\n",
       "0  Ganzourgou  RandomForest      0.87243    0.954676\n",
       "1  Ganzourgou  DecisionTree      1.00000   -0.597096\n",
       "2  Ganzourgou       RidgeCV      0.68166    0.757489\n",
       "3  Ganzourgou         Lasso      0.98008   -1.590889"
      ]
     },
     "execution_count": 20,
     "metadata": {},
     "output_type": "execute_result"
    }
   ],
   "source": [
    "model_province(df,'Ganzourgou',3)"
   ]
  },
  {
   "cell_type": "code",
   "execution_count": 21,
   "id": "7e4622b8",
   "metadata": {},
   "outputs": [],
   "source": [
    "def Data(data,v,n):\n",
    "    D=pd.DataFrame()\n",
    "    for i in range(0,len(v)):\n",
    "        P=v[i]\n",
    "        D=pd.concat([D,model_province(data,P,n)],axis = 0)\n",
    "    return D"
   ]
  },
  {
   "cell_type": "code",
   "execution_count": 22,
   "id": "7ccf9875",
   "metadata": {},
   "outputs": [
    {
     "data": {
      "text/plain": [
       "'Banwa'"
      ]
     },
     "execution_count": 22,
     "metadata": {},
     "output_type": "execute_result"
    }
   ],
   "source": [
    "vect[1]"
   ]
  },
  {
   "cell_type": "code",
   "execution_count": null,
   "id": "0749b6c7",
   "metadata": {},
   "outputs": [],
   "source": []
  },
  {
   "cell_type": "code",
   "execution_count": 23,
   "id": "904a860c",
   "metadata": {},
   "outputs": [
    {
     "name": "stderr",
     "output_type": "stream",
     "text": [
      "C:\\ProgramData\\Anaconda3\\lib\\site-packages\\sklearn\\linear_model\\_coordinate_descent.py:530: ConvergenceWarning: Objective did not converge. You might want to increase the number of iterations. Duality gap: 11692.877872452053, tolerance: 843.6909556637838\n",
      "  model = cd_fast.enet_coordinate_descent(\n",
      "C:\\ProgramData\\Anaconda3\\lib\\site-packages\\sklearn\\linear_model\\_coordinate_descent.py:530: ConvergenceWarning: Objective did not converge. You might want to increase the number of iterations. Duality gap: 5294.924724813987, tolerance: 1286.2476489543742\n",
      "  model = cd_fast.enet_coordinate_descent(\n"
     ]
    }
   ],
   "source": [
    "ok=Data(df,vect,3)\n",
    "#ok"
   ]
  },
  {
   "cell_type": "code",
   "execution_count": 27,
   "id": "adb76e69",
   "metadata": {},
   "outputs": [],
   "source": [
    "ok.to_csv('score_M.csv')"
   ]
  },
  {
   "cell_type": "code",
   "execution_count": 26,
   "id": "4335de6d",
   "metadata": {},
   "outputs": [
    {
     "data": {
      "text/html": [
       "<div>\n",
       "<style scoped>\n",
       "    .dataframe tbody tr th:only-of-type {\n",
       "        vertical-align: middle;\n",
       "    }\n",
       "\n",
       "    .dataframe tbody tr th {\n",
       "        vertical-align: top;\n",
       "    }\n",
       "\n",
       "    .dataframe thead th {\n",
       "        text-align: right;\n",
       "    }\n",
       "</style>\n",
       "<table border=\"1\" class=\"dataframe\">\n",
       "  <thead>\n",
       "    <tr style=\"text-align: right;\">\n",
       "      <th></th>\n",
       "      <th>province</th>\n",
       "      <th>model</th>\n",
       "      <th>Score_train</th>\n",
       "      <th>score_test</th>\n",
       "    </tr>\n",
       "  </thead>\n",
       "  <tbody>\n",
       "    <tr>\n",
       "      <th>0</th>\n",
       "      <td>Bale</td>\n",
       "      <td>RandomForest</td>\n",
       "      <td>0.868087</td>\n",
       "      <td>0.512115</td>\n",
       "    </tr>\n",
       "    <tr>\n",
       "      <th>1</th>\n",
       "      <td>Sanmatenga</td>\n",
       "      <td>DecisionTree</td>\n",
       "      <td>1.000000</td>\n",
       "      <td>0.505935</td>\n",
       "    </tr>\n",
       "    <tr>\n",
       "      <th>0</th>\n",
       "      <td>Boulkiemde</td>\n",
       "      <td>RandomForest</td>\n",
       "      <td>0.814640</td>\n",
       "      <td>0.592886</td>\n",
       "    </tr>\n",
       "    <tr>\n",
       "      <th>1</th>\n",
       "      <td>Boulkiemde</td>\n",
       "      <td>DecisionTree</td>\n",
       "      <td>1.000000</td>\n",
       "      <td>0.680100</td>\n",
       "    </tr>\n",
       "    <tr>\n",
       "      <th>0</th>\n",
       "      <td>Sanguie</td>\n",
       "      <td>RandomForest</td>\n",
       "      <td>0.915476</td>\n",
       "      <td>0.574971</td>\n",
       "    </tr>\n",
       "    <tr>\n",
       "      <th>1</th>\n",
       "      <td>Sanguie</td>\n",
       "      <td>DecisionTree</td>\n",
       "      <td>1.000000</td>\n",
       "      <td>0.600562</td>\n",
       "    </tr>\n",
       "    <tr>\n",
       "      <th>2</th>\n",
       "      <td>Sanguie</td>\n",
       "      <td>RidgeCV</td>\n",
       "      <td>0.794615</td>\n",
       "      <td>0.518294</td>\n",
       "    </tr>\n",
       "    <tr>\n",
       "      <th>3</th>\n",
       "      <td>Sanguie</td>\n",
       "      <td>Lasso</td>\n",
       "      <td>0.964594</td>\n",
       "      <td>0.682133</td>\n",
       "    </tr>\n",
       "    <tr>\n",
       "      <th>1</th>\n",
       "      <td>Zoundweogo</td>\n",
       "      <td>DecisionTree</td>\n",
       "      <td>1.000000</td>\n",
       "      <td>0.516506</td>\n",
       "    </tr>\n",
       "    <tr>\n",
       "      <th>2</th>\n",
       "      <td>Zoundweogo</td>\n",
       "      <td>RidgeCV</td>\n",
       "      <td>0.997922</td>\n",
       "      <td>0.788811</td>\n",
       "    </tr>\n",
       "    <tr>\n",
       "      <th>3</th>\n",
       "      <td>Zoundweogo</td>\n",
       "      <td>Lasso</td>\n",
       "      <td>0.978276</td>\n",
       "      <td>0.876935</td>\n",
       "    </tr>\n",
       "    <tr>\n",
       "      <th>0</th>\n",
       "      <td>Kadiogo</td>\n",
       "      <td>RandomForest</td>\n",
       "      <td>0.938612</td>\n",
       "      <td>0.986069</td>\n",
       "    </tr>\n",
       "    <tr>\n",
       "      <th>1</th>\n",
       "      <td>Kadiogo</td>\n",
       "      <td>DecisionTree</td>\n",
       "      <td>1.000000</td>\n",
       "      <td>0.654071</td>\n",
       "    </tr>\n",
       "    <tr>\n",
       "      <th>2</th>\n",
       "      <td>Kadiogo</td>\n",
       "      <td>RidgeCV</td>\n",
       "      <td>0.998500</td>\n",
       "      <td>0.558945</td>\n",
       "    </tr>\n",
       "    <tr>\n",
       "      <th>3</th>\n",
       "      <td>Kadiogo</td>\n",
       "      <td>Lasso</td>\n",
       "      <td>0.995777</td>\n",
       "      <td>0.624148</td>\n",
       "    </tr>\n",
       "    <tr>\n",
       "      <th>0</th>\n",
       "      <td>Gnagna</td>\n",
       "      <td>RandomForest</td>\n",
       "      <td>0.879817</td>\n",
       "      <td>0.659926</td>\n",
       "    </tr>\n",
       "    <tr>\n",
       "      <th>3</th>\n",
       "      <td>Gourma</td>\n",
       "      <td>Lasso</td>\n",
       "      <td>0.858831</td>\n",
       "      <td>0.529546</td>\n",
       "    </tr>\n",
       "    <tr>\n",
       "      <th>0</th>\n",
       "      <td>Ganzourgou</td>\n",
       "      <td>RandomForest</td>\n",
       "      <td>0.862812</td>\n",
       "      <td>0.960309</td>\n",
       "    </tr>\n",
       "    <tr>\n",
       "      <th>2</th>\n",
       "      <td>Ganzourgou</td>\n",
       "      <td>RidgeCV</td>\n",
       "      <td>0.681660</td>\n",
       "      <td>0.757489</td>\n",
       "    </tr>\n",
       "    <tr>\n",
       "      <th>2</th>\n",
       "      <td>Ioba</td>\n",
       "      <td>RidgeCV</td>\n",
       "      <td>0.741975</td>\n",
       "      <td>0.576065</td>\n",
       "    </tr>\n",
       "    <tr>\n",
       "      <th>2</th>\n",
       "      <td>Poni</td>\n",
       "      <td>RidgeCV</td>\n",
       "      <td>0.693611</td>\n",
       "      <td>0.668668</td>\n",
       "    </tr>\n",
       "  </tbody>\n",
       "</table>\n",
       "</div>"
      ],
      "text/plain": [
       "     province         model  Score_train  score_test\n",
       "0        Bale  RandomForest     0.868087    0.512115\n",
       "1  Sanmatenga  DecisionTree     1.000000    0.505935\n",
       "0  Boulkiemde  RandomForest     0.814640    0.592886\n",
       "1  Boulkiemde  DecisionTree     1.000000    0.680100\n",
       "0     Sanguie  RandomForest     0.915476    0.574971\n",
       "1     Sanguie  DecisionTree     1.000000    0.600562\n",
       "2     Sanguie       RidgeCV     0.794615    0.518294\n",
       "3     Sanguie         Lasso     0.964594    0.682133\n",
       "1  Zoundweogo  DecisionTree     1.000000    0.516506\n",
       "2  Zoundweogo       RidgeCV     0.997922    0.788811\n",
       "3  Zoundweogo         Lasso     0.978276    0.876935\n",
       "0     Kadiogo  RandomForest     0.938612    0.986069\n",
       "1     Kadiogo  DecisionTree     1.000000    0.654071\n",
       "2     Kadiogo       RidgeCV     0.998500    0.558945\n",
       "3     Kadiogo         Lasso     0.995777    0.624148\n",
       "0      Gnagna  RandomForest     0.879817    0.659926\n",
       "3      Gourma         Lasso     0.858831    0.529546\n",
       "0  Ganzourgou  RandomForest     0.862812    0.960309\n",
       "2  Ganzourgou       RidgeCV     0.681660    0.757489\n",
       "2        Ioba       RidgeCV     0.741975    0.576065\n",
       "2        Poni       RidgeCV     0.693611    0.668668"
      ]
     },
     "execution_count": 26,
     "metadata": {},
     "output_type": "execute_result"
    }
   ],
   "source": [
    "#mrr=ok.loc[ok['model'].isin(['DecisionTree'])]\n",
    "ok[ok['score_test'] >= 0.5 ]"
   ]
  },
  {
   "cell_type": "code",
   "execution_count": null,
   "id": "5729d27e",
   "metadata": {},
   "outputs": [],
   "source": []
  },
  {
   "cell_type": "code",
   "execution_count": null,
   "id": "8359e2e4",
   "metadata": {},
   "outputs": [],
   "source": []
  }
 ],
 "metadata": {
  "kernelspec": {
   "display_name": "Python 3",
   "language": "python",
   "name": "python3"
  },
  "language_info": {
   "codemirror_mode": {
    "name": "ipython",
    "version": 3
   },
   "file_extension": ".py",
   "mimetype": "text/x-python",
   "name": "python",
   "nbconvert_exporter": "python",
   "pygments_lexer": "ipython3",
   "version": "3.8.8"
  }
 },
 "nbformat": 4,
 "nbformat_minor": 5
}
